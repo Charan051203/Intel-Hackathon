{
 "cells": [
  {
   "cell_type": "markdown",
   "metadata": {
    "id": "_Bqw9fdHNyxI"
   },
   "source": [
    "# Importing all the necessary libraries"
   ]
  },
  {
   "cell_type": "code",
   "execution_count": 1,
   "metadata": {
    "scrolled": true
   },
   "outputs": [
    {
     "name": "stdout",
     "output_type": "stream",
     "text": [
      "Defaulting to user installation because normal site-packages is not writeable\n",
      "\u001b[33mWARNING: Ignoring invalid distribution -andas (/home/u4e33ad748ff676fc8f11a9fce6da521/.local/lib/python3.9/site-packages)\u001b[0m\u001b[33m\n",
      "\u001b[0m\u001b[33mWARNING: Ignoring invalid distribution -andas (/home/u4e33ad748ff676fc8f11a9fce6da521/.local/lib/python3.9/site-packages)\u001b[0m\u001b[33m\n",
      "\u001b[0mRequirement already satisfied: modin[all] in ./.local/lib/python3.9/site-packages (0.26.1)\n",
      "Requirement already satisfied: pandas<2.2,>=2.1 in ./.local/lib/python3.9/site-packages (from modin[all]) (2.1.4)\n",
      "Requirement already satisfied: packaging>=21.0 in /opt/intel/oneapi/modin/0.23.0.0/lib/python3.9/site-packages (from modin[all]) (23.1)\n",
      "Requirement already satisfied: numpy>=1.22.4 in ./.local/lib/python3.9/site-packages (from modin[all]) (1.23.5)\n",
      "Requirement already satisfied: fsspec>=2022.05.0 in ./.local/lib/python3.9/site-packages (from modin[all]) (2024.2.0)\n",
      "Requirement already satisfied: psutil>=5.8.0 in /opt/intel/oneapi/modin/0.23.0.0/lib/python3.9/site-packages (from modin[all]) (5.9.5)\n",
      "Requirement already satisfied: dask>=2.22.0 in ./.local/lib/python3.9/site-packages (from modin[all]) (2024.1.1)\n",
      "Requirement already satisfied: distributed>=2.22.0 in ./.local/lib/python3.9/site-packages (from modin[all]) (2024.1.1)\n",
      "Requirement already satisfied: ray[default]!=2.5.0,>=1.13.0 in ./.local/lib/python3.9/site-packages (from modin[all]) (2.9.2)\n",
      "Requirement already satisfied: pyarrow>=7.0.0 in ./.local/lib/python3.9/site-packages (from modin[all]) (15.0.0)\n",
      "Requirement already satisfied: pydantic<2 in ./.local/lib/python3.9/site-packages (from modin[all]) (1.10.14)\n",
      "Requirement already satisfied: modin-spreadsheet>=0.1.0 in ./.local/lib/python3.9/site-packages (from modin[all]) (0.1.2)\n",
      "Requirement already satisfied: click>=8.1 in ./.local/lib/python3.9/site-packages (from dask>=2.22.0->modin[all]) (8.1.7)\n",
      "Requirement already satisfied: cloudpickle>=1.5.0 in ./.local/lib/python3.9/site-packages (from dask>=2.22.0->modin[all]) (3.0.0)\n",
      "Requirement already satisfied: partd>=1.2.0 in ./.local/lib/python3.9/site-packages (from dask>=2.22.0->modin[all]) (1.4.1)\n",
      "Requirement already satisfied: pyyaml>=5.3.1 in /opt/intel/oneapi/modin/0.23.0.0/lib/python3.9/site-packages (from dask>=2.22.0->modin[all]) (6.0)\n",
      "Requirement already satisfied: toolz>=0.10.0 in ./.local/lib/python3.9/site-packages (from dask>=2.22.0->modin[all]) (0.12.1)\n",
      "Requirement already satisfied: importlib-metadata>=4.13.0 in /opt/intel/oneapi/modin/0.23.0.0/lib/python3.9/site-packages (from dask>=2.22.0->modin[all]) (6.0.0)\n",
      "Requirement already satisfied: jinja2>=2.10.3 in ./.local/lib/python3.9/site-packages (from distributed>=2.22.0->modin[all]) (3.1.3)\n",
      "Requirement already satisfied: locket>=1.0.0 in ./.local/lib/python3.9/site-packages (from distributed>=2.22.0->modin[all]) (1.0.0)\n",
      "Requirement already satisfied: msgpack>=1.0.0 in ./.local/lib/python3.9/site-packages (from distributed>=2.22.0->modin[all]) (1.0.7)\n",
      "Requirement already satisfied: sortedcontainers>=2.0.5 in ./.local/lib/python3.9/site-packages (from distributed>=2.22.0->modin[all]) (2.4.0)\n",
      "Requirement already satisfied: tblib>=1.6.0 in ./.local/lib/python3.9/site-packages (from distributed>=2.22.0->modin[all]) (3.0.0)\n",
      "Requirement already satisfied: tornado>=6.0.4 in /opt/intel/oneapi/modin/0.23.0.0/lib/python3.9/site-packages (from distributed>=2.22.0->modin[all]) (6.3.2)\n",
      "Requirement already satisfied: urllib3>=1.24.3 in /opt/intel/oneapi/modin/0.23.0.0/lib/python3.9/site-packages (from distributed>=2.22.0->modin[all]) (2.0.3)\n",
      "Requirement already satisfied: zict>=3.0.0 in ./.local/lib/python3.9/site-packages (from distributed>=2.22.0->modin[all]) (3.0.0)\n",
      "Requirement already satisfied: jupyter>=1.0.0 in ./.local/lib/python3.9/site-packages (from modin-spreadsheet>=0.1.0->modin[all]) (1.0.0)\n",
      "Requirement already satisfied: notebook>=6.0.3 in ./.local/lib/python3.9/site-packages (from modin-spreadsheet>=0.1.0->modin[all]) (7.0.7)\n",
      "Requirement already satisfied: ipywidgets>=7.0.0 in /opt/intel/oneapi/modin/0.23.0.0/lib/python3.9/site-packages (from modin-spreadsheet>=0.1.0->modin[all]) (8.0.4)\n",
      "Requirement already satisfied: python-dateutil>=2.8.2 in /opt/intel/oneapi/modin/0.23.0.0/lib/python3.9/site-packages (from pandas<2.2,>=2.1->modin[all]) (2.8.2)\n",
      "Requirement already satisfied: pytz>=2020.1 in /opt/intel/oneapi/modin/0.23.0.0/lib/python3.9/site-packages (from pandas<2.2,>=2.1->modin[all]) (2023.3)\n",
      "Requirement already satisfied: tzdata>=2022.1 in /opt/intel/oneapi/modin/0.23.0.0/lib/python3.9/site-packages (from pandas<2.2,>=2.1->modin[all]) (2023.3)\n",
      "Requirement already satisfied: typing-extensions>=4.2.0 in ./.local/lib/python3.9/site-packages (from pydantic<2->modin[all]) (4.9.0)\n",
      "Requirement already satisfied: filelock in ./.local/lib/python3.9/site-packages (from ray[default]!=2.5.0,>=1.13.0->modin[all]) (3.13.1)\n",
      "Requirement already satisfied: jsonschema in ./.local/lib/python3.9/site-packages (from ray[default]!=2.5.0,>=1.13.0->modin[all]) (4.21.1)\n",
      "Requirement already satisfied: protobuf!=3.19.5,>=3.15.3 in /opt/intel/oneapi/modin/0.23.0.0/lib/python3.9/site-packages (from ray[default]!=2.5.0,>=1.13.0->modin[all]) (4.23.2)\n",
      "Requirement already satisfied: aiosignal in /opt/intel/oneapi/modin/0.23.0.0/lib/python3.9/site-packages (from ray[default]!=2.5.0,>=1.13.0->modin[all]) (1.3.1)\n",
      "Requirement already satisfied: frozenlist in /opt/intel/oneapi/modin/0.23.0.0/lib/python3.9/site-packages (from ray[default]!=2.5.0,>=1.13.0->modin[all]) (1.4.0)\n",
      "Requirement already satisfied: requests in /opt/intel/oneapi/modin/0.23.0.0/lib/python3.9/site-packages (from ray[default]!=2.5.0,>=1.13.0->modin[all]) (2.31.0)\n",
      "Collecting aiohttp>=3.7 (from ray[default]!=2.5.0,>=1.13.0->modin[all])\n",
      "  Downloading aiohttp-3.9.3-cp39-cp39-manylinux_2_17_x86_64.manylinux2014_x86_64.whl (1.2 MB)\n",
      "\u001b[2K     \u001b[90m━━━━━━━━━━━━━━━━━━━━━━━━━━━━━━━━━━━━━━━━\u001b[0m \u001b[32m1.2/1.2 MB\u001b[0m \u001b[31m620.8 kB/s\u001b[0m eta \u001b[36m0:00:00\u001b[0m00:01\u001b[0m00:01\u001b[0m\n",
      "\u001b[?25hRequirement already satisfied: aiohttp-cors in ./.local/lib/python3.9/site-packages (from ray[default]!=2.5.0,>=1.13.0->modin[all]) (0.7.0)\n",
      "Requirement already satisfied: colorful in ./.local/lib/python3.9/site-packages (from ray[default]!=2.5.0,>=1.13.0->modin[all]) (0.5.6)\n",
      "Requirement already satisfied: py-spy>=0.2.0 in ./.local/lib/python3.9/site-packages (from ray[default]!=2.5.0,>=1.13.0->modin[all]) (0.3.14)\n",
      "Requirement already satisfied: gpustat>=1.0.0 in ./.local/lib/python3.9/site-packages (from ray[default]!=2.5.0,>=1.13.0->modin[all]) (1.1.1)\n",
      "Requirement already satisfied: opencensus in ./.local/lib/python3.9/site-packages (from ray[default]!=2.5.0,>=1.13.0->modin[all]) (0.11.4)\n",
      "Requirement already satisfied: prometheus-client>=0.7.1 in ./.local/lib/python3.9/site-packages (from ray[default]!=2.5.0,>=1.13.0->modin[all]) (0.19.0)\n",
      "Requirement already satisfied: smart-open in ./.local/lib/python3.9/site-packages (from ray[default]!=2.5.0,>=1.13.0->modin[all]) (6.4.0)\n",
      "Requirement already satisfied: virtualenv!=20.21.1,>=20.0.24 in ./.local/lib/python3.9/site-packages (from ray[default]!=2.5.0,>=1.13.0->modin[all]) (20.25.0)\n",
      "Requirement already satisfied: grpcio>=1.32.0 in /opt/intel/oneapi/modin/0.23.0.0/lib/python3.9/site-packages (from ray[default]!=2.5.0,>=1.13.0->modin[all]) (1.44.0)\n",
      "Requirement already satisfied: attrs>=17.3.0 in ./.local/lib/python3.9/site-packages (from aiohttp>=3.7->ray[default]!=2.5.0,>=1.13.0->modin[all]) (23.2.0)\n",
      "Collecting multidict<7.0,>=4.5 (from aiohttp>=3.7->ray[default]!=2.5.0,>=1.13.0->modin[all])\n",
      "  Downloading multidict-6.0.5-cp39-cp39-manylinux_2_17_x86_64.manylinux2014_x86_64.whl (123 kB)\n",
      "\u001b[2K     \u001b[90m━━━━━━━━━━━━━━━━━━━━━━━━━━━━━━━━━━━━━━━\u001b[0m \u001b[32m123.8/123.8 kB\u001b[0m \u001b[31m1.6 MB/s\u001b[0m eta \u001b[36m0:00:00\u001b[0ma \u001b[36m0:00:01\u001b[0m\n",
      "\u001b[?25hCollecting yarl<2.0,>=1.0 (from aiohttp>=3.7->ray[default]!=2.5.0,>=1.13.0->modin[all])\n",
      "  Downloading yarl-1.9.4-cp39-cp39-manylinux_2_17_x86_64.manylinux2014_x86_64.whl (304 kB)\n",
      "\u001b[2K     \u001b[90m━━━━━━━━━━━━━━━━━━━━━━━━━━━━━━━━━━━━━\u001b[0m \u001b[32m304.3/304.3 kB\u001b[0m \u001b[31m374.4 kB/s\u001b[0m eta \u001b[36m0:00:00\u001b[0ma \u001b[36m0:00:01\u001b[0m\n",
      "\u001b[?25hCollecting async-timeout<5.0,>=4.0 (from aiohttp>=3.7->ray[default]!=2.5.0,>=1.13.0->modin[all])\n",
      "  Downloading async_timeout-4.0.3-py3-none-any.whl (5.7 kB)\n",
      "Requirement already satisfied: nvidia-ml-py>=11.450.129 in ./.local/lib/python3.9/site-packages (from gpustat>=1.0.0->ray[default]!=2.5.0,>=1.13.0->modin[all]) (12.535.133)\n",
      "Requirement already satisfied: blessed>=1.17.1 in ./.local/lib/python3.9/site-packages (from gpustat>=1.0.0->ray[default]!=2.5.0,>=1.13.0->modin[all]) (1.20.0)\n",
      "Requirement already satisfied: six>=1.5.2 in /opt/intel/oneapi/modin/0.23.0.0/lib/python3.9/site-packages (from grpcio>=1.32.0->ray[default]!=2.5.0,>=1.13.0->modin[all]) (1.16.0)\n",
      "Requirement already satisfied: zipp>=0.5 in /opt/intel/oneapi/modin/0.23.0.0/lib/python3.9/site-packages (from importlib-metadata>=4.13.0->dask>=2.22.0->modin[all]) (3.16.2)\n",
      "Requirement already satisfied: ipykernel>=4.5.1 in /opt/intel/oneapi/modin/0.23.0.0/lib/python3.9/site-packages (from ipywidgets>=7.0.0->modin-spreadsheet>=0.1.0->modin[all]) (6.25.0)\n",
      "Requirement already satisfied: ipython>=6.1.0 in /opt/intel/oneapi/modin/0.23.0.0/lib/python3.9/site-packages (from ipywidgets>=7.0.0->modin-spreadsheet>=0.1.0->modin[all]) (8.15.0)\n",
      "Requirement already satisfied: traitlets>=4.3.1 in /opt/intel/oneapi/modin/0.23.0.0/lib/python3.9/site-packages (from ipywidgets>=7.0.0->modin-spreadsheet>=0.1.0->modin[all]) (5.7.1)\n",
      "Requirement already satisfied: widgetsnbextension~=4.0 in /opt/intel/oneapi/modin/0.23.0.0/lib/python3.9/site-packages (from ipywidgets>=7.0.0->modin-spreadsheet>=0.1.0->modin[all]) (4.0.5)\n",
      "Requirement already satisfied: jupyterlab-widgets~=3.0 in /opt/intel/oneapi/modin/0.23.0.0/lib/python3.9/site-packages (from ipywidgets>=7.0.0->modin-spreadsheet>=0.1.0->modin[all]) (3.0.5)\n",
      "Requirement already satisfied: MarkupSafe>=2.0 in ./.local/lib/python3.9/site-packages (from jinja2>=2.10.3->distributed>=2.22.0->modin[all]) (2.1.5)\n",
      "Requirement already satisfied: qtconsole in ./.local/lib/python3.9/site-packages (from jupyter>=1.0.0->modin-spreadsheet>=0.1.0->modin[all]) (5.5.1)\n",
      "Requirement already satisfied: jupyter-console in ./.local/lib/python3.9/site-packages (from jupyter>=1.0.0->modin-spreadsheet>=0.1.0->modin[all]) (6.6.3)\n",
      "Requirement already satisfied: nbconvert in ./.local/lib/python3.9/site-packages (from jupyter>=1.0.0->modin-spreadsheet>=0.1.0->modin[all]) (7.16.0)\n",
      "Requirement already satisfied: jupyter-server<3,>=2.4.0 in ./.local/lib/python3.9/site-packages (from notebook>=6.0.3->modin-spreadsheet>=0.1.0->modin[all]) (2.12.5)\n",
      "Requirement already satisfied: jupyterlab-server<3,>=2.22.1 in ./.local/lib/python3.9/site-packages (from notebook>=6.0.3->modin-spreadsheet>=0.1.0->modin[all]) (2.25.2)\n",
      "Requirement already satisfied: jupyterlab<5,>=4.0.2 in ./.local/lib/python3.9/site-packages (from notebook>=6.0.3->modin-spreadsheet>=0.1.0->modin[all]) (4.1.0)\n",
      "Requirement already satisfied: notebook-shim<0.3,>=0.2 in ./.local/lib/python3.9/site-packages (from notebook>=6.0.3->modin-spreadsheet>=0.1.0->modin[all]) (0.2.3)\n",
      "Requirement already satisfied: distlib<1,>=0.3.7 in ./.local/lib/python3.9/site-packages (from virtualenv!=20.21.1,>=20.0.24->ray[default]!=2.5.0,>=1.13.0->modin[all]) (0.3.8)\n",
      "Requirement already satisfied: platformdirs<5,>=3.9.1 in ./.local/lib/python3.9/site-packages (from virtualenv!=20.21.1,>=20.0.24->ray[default]!=2.5.0,>=1.13.0->modin[all]) (4.2.0)\n",
      "Requirement already satisfied: jsonschema-specifications>=2023.03.6 in ./.local/lib/python3.9/site-packages (from jsonschema->ray[default]!=2.5.0,>=1.13.0->modin[all]) (2023.12.1)\n",
      "Requirement already satisfied: referencing>=0.28.4 in ./.local/lib/python3.9/site-packages (from jsonschema->ray[default]!=2.5.0,>=1.13.0->modin[all]) (0.33.0)\n",
      "Requirement already satisfied: rpds-py>=0.7.1 in ./.local/lib/python3.9/site-packages (from jsonschema->ray[default]!=2.5.0,>=1.13.0->modin[all]) (0.17.1)\n",
      "Requirement already satisfied: opencensus-context>=0.1.3 in ./.local/lib/python3.9/site-packages (from opencensus->ray[default]!=2.5.0,>=1.13.0->modin[all]) (0.1.3)\n",
      "Requirement already satisfied: google-api-core<3.0.0,>=1.0.0 in ./.local/lib/python3.9/site-packages (from opencensus->ray[default]!=2.5.0,>=1.13.0->modin[all]) (2.17.0)\n",
      "Requirement already satisfied: charset-normalizer<4,>=2 in /opt/intel/oneapi/modin/0.23.0.0/lib/python3.9/site-packages (from requests->ray[default]!=2.5.0,>=1.13.0->modin[all]) (3.1.0)\n",
      "Requirement already satisfied: idna<4,>=2.5 in /opt/intel/oneapi/modin/0.23.0.0/lib/python3.9/site-packages (from requests->ray[default]!=2.5.0,>=1.13.0->modin[all]) (3.4)\n",
      "Requirement already satisfied: certifi>=2017.4.17 in /opt/intel/oneapi/modin/0.23.0.0/lib/python3.9/site-packages (from requests->ray[default]!=2.5.0,>=1.13.0->modin[all]) (2023.7.22)\n",
      "Requirement already satisfied: wcwidth>=0.1.4 in /opt/intel/oneapi/modin/0.23.0.0/lib/python3.9/site-packages (from blessed>=1.17.1->gpustat>=1.0.0->ray[default]!=2.5.0,>=1.13.0->modin[all]) (0.2.5)\n",
      "Requirement already satisfied: googleapis-common-protos<2.0.dev0,>=1.56.2 in ./.local/lib/python3.9/site-packages (from google-api-core<3.0.0,>=1.0.0->opencensus->ray[default]!=2.5.0,>=1.13.0->modin[all]) (1.62.0)\n",
      "Requirement already satisfied: google-auth<3.0.dev0,>=2.14.1 in ./.local/lib/python3.9/site-packages (from google-api-core<3.0.0,>=1.0.0->opencensus->ray[default]!=2.5.0,>=1.13.0->modin[all]) (2.27.0)\n",
      "Requirement already satisfied: comm>=0.1.1 in /opt/intel/oneapi/modin/0.23.0.0/lib/python3.9/site-packages (from ipykernel>=4.5.1->ipywidgets>=7.0.0->modin-spreadsheet>=0.1.0->modin[all]) (0.1.2)\n",
      "Requirement already satisfied: debugpy>=1.6.5 in /opt/intel/oneapi/modin/0.23.0.0/lib/python3.9/site-packages (from ipykernel>=4.5.1->ipywidgets>=7.0.0->modin-spreadsheet>=0.1.0->modin[all]) (1.6.7)\n",
      "Requirement already satisfied: jupyter-client>=6.1.12 in /opt/intel/oneapi/modin/0.23.0.0/lib/python3.9/site-packages (from ipykernel>=4.5.1->ipywidgets>=7.0.0->modin-spreadsheet>=0.1.0->modin[all]) (8.1.0)\n",
      "Requirement already satisfied: jupyter-core!=5.0.*,>=4.12 in /opt/intel/oneapi/modin/0.23.0.0/lib/python3.9/site-packages (from ipykernel>=4.5.1->ipywidgets>=7.0.0->modin-spreadsheet>=0.1.0->modin[all]) (5.3.0)\n",
      "Requirement already satisfied: matplotlib-inline>=0.1 in /opt/intel/oneapi/modin/0.23.0.0/lib/python3.9/site-packages (from ipykernel>=4.5.1->ipywidgets>=7.0.0->modin-spreadsheet>=0.1.0->modin[all]) (0.1.6)\n",
      "Requirement already satisfied: nest-asyncio in /opt/intel/oneapi/modin/0.23.0.0/lib/python3.9/site-packages (from ipykernel>=4.5.1->ipywidgets>=7.0.0->modin-spreadsheet>=0.1.0->modin[all]) (1.5.6)\n",
      "Requirement already satisfied: pyzmq>=20 in /opt/intel/oneapi/modin/0.23.0.0/lib/python3.9/site-packages (from ipykernel>=4.5.1->ipywidgets>=7.0.0->modin-spreadsheet>=0.1.0->modin[all]) (25.1.0)\n",
      "Requirement already satisfied: backcall in /opt/intel/oneapi/modin/0.23.0.0/lib/python3.9/site-packages (from ipython>=6.1.0->ipywidgets>=7.0.0->modin-spreadsheet>=0.1.0->modin[all]) (0.2.0)\n",
      "Requirement already satisfied: decorator in /opt/intel/oneapi/modin/0.23.0.0/lib/python3.9/site-packages (from ipython>=6.1.0->ipywidgets>=7.0.0->modin-spreadsheet>=0.1.0->modin[all]) (5.1.1)\n",
      "Requirement already satisfied: jedi>=0.16 in /opt/intel/oneapi/modin/0.23.0.0/lib/python3.9/site-packages (from ipython>=6.1.0->ipywidgets>=7.0.0->modin-spreadsheet>=0.1.0->modin[all]) (0.18.1)\n",
      "Requirement already satisfied: pickleshare in /opt/intel/oneapi/modin/0.23.0.0/lib/python3.9/site-packages (from ipython>=6.1.0->ipywidgets>=7.0.0->modin-spreadsheet>=0.1.0->modin[all]) (0.7.5)\n",
      "Requirement already satisfied: prompt-toolkit!=3.0.37,<3.1.0,>=3.0.30 in /opt/intel/oneapi/modin/0.23.0.0/lib/python3.9/site-packages (from ipython>=6.1.0->ipywidgets>=7.0.0->modin-spreadsheet>=0.1.0->modin[all]) (3.0.36)\n",
      "Requirement already satisfied: pygments>=2.4.0 in /opt/intel/oneapi/modin/0.23.0.0/lib/python3.9/site-packages (from ipython>=6.1.0->ipywidgets>=7.0.0->modin-spreadsheet>=0.1.0->modin[all]) (2.15.1)\n",
      "Requirement already satisfied: stack-data in /opt/intel/oneapi/modin/0.23.0.0/lib/python3.9/site-packages (from ipython>=6.1.0->ipywidgets>=7.0.0->modin-spreadsheet>=0.1.0->modin[all]) (0.2.0)\n",
      "Requirement already satisfied: exceptiongroup in /opt/intel/oneapi/modin/0.23.0.0/lib/python3.9/site-packages (from ipython>=6.1.0->ipywidgets>=7.0.0->modin-spreadsheet>=0.1.0->modin[all]) (1.0.4)\n",
      "Requirement already satisfied: pexpect>4.3 in /opt/intel/oneapi/modin/0.23.0.0/lib/python3.9/site-packages (from ipython>=6.1.0->ipywidgets>=7.0.0->modin-spreadsheet>=0.1.0->modin[all]) (4.8.0)\n",
      "Requirement already satisfied: anyio>=3.1.0 in ./.local/lib/python3.9/site-packages (from jupyter-server<3,>=2.4.0->notebook>=6.0.3->modin-spreadsheet>=0.1.0->modin[all]) (4.2.0)\n",
      "Requirement already satisfied: argon2-cffi in ./.local/lib/python3.9/site-packages (from jupyter-server<3,>=2.4.0->notebook>=6.0.3->modin-spreadsheet>=0.1.0->modin[all]) (23.1.0)\n",
      "Requirement already satisfied: jupyter-events>=0.9.0 in ./.local/lib/python3.9/site-packages (from jupyter-server<3,>=2.4.0->notebook>=6.0.3->modin-spreadsheet>=0.1.0->modin[all]) (0.9.0)\n",
      "Requirement already satisfied: jupyter-server-terminals in ./.local/lib/python3.9/site-packages (from jupyter-server<3,>=2.4.0->notebook>=6.0.3->modin-spreadsheet>=0.1.0->modin[all]) (0.5.2)\n",
      "Requirement already satisfied: nbformat>=5.3.0 in ./.local/lib/python3.9/site-packages (from jupyter-server<3,>=2.4.0->notebook>=6.0.3->modin-spreadsheet>=0.1.0->modin[all]) (5.9.2)\n",
      "Requirement already satisfied: overrides in ./.local/lib/python3.9/site-packages (from jupyter-server<3,>=2.4.0->notebook>=6.0.3->modin-spreadsheet>=0.1.0->modin[all]) (7.7.0)\n",
      "Requirement already satisfied: send2trash>=1.8.2 in ./.local/lib/python3.9/site-packages (from jupyter-server<3,>=2.4.0->notebook>=6.0.3->modin-spreadsheet>=0.1.0->modin[all]) (1.8.2)\n",
      "Requirement already satisfied: terminado>=0.8.3 in ./.local/lib/python3.9/site-packages (from jupyter-server<3,>=2.4.0->notebook>=6.0.3->modin-spreadsheet>=0.1.0->modin[all]) (0.18.0)\n",
      "Requirement already satisfied: websocket-client in ./.local/lib/python3.9/site-packages (from jupyter-server<3,>=2.4.0->notebook>=6.0.3->modin-spreadsheet>=0.1.0->modin[all]) (1.7.0)\n",
      "Requirement already satisfied: async-lru>=1.0.0 in ./.local/lib/python3.9/site-packages (from jupyterlab<5,>=4.0.2->notebook>=6.0.3->modin-spreadsheet>=0.1.0->modin[all]) (2.0.4)\n",
      "Requirement already satisfied: httpx>=0.25.0 in ./.local/lib/python3.9/site-packages (from jupyterlab<5,>=4.0.2->notebook>=6.0.3->modin-spreadsheet>=0.1.0->modin[all]) (0.26.0)\n",
      "Requirement already satisfied: jupyter-lsp>=2.0.0 in ./.local/lib/python3.9/site-packages (from jupyterlab<5,>=4.0.2->notebook>=6.0.3->modin-spreadsheet>=0.1.0->modin[all]) (2.2.2)\n",
      "Requirement already satisfied: tomli in ./.local/lib/python3.9/site-packages (from jupyterlab<5,>=4.0.2->notebook>=6.0.3->modin-spreadsheet>=0.1.0->modin[all]) (2.0.1)\n",
      "Requirement already satisfied: babel>=2.10 in ./.local/lib/python3.9/site-packages (from jupyterlab-server<3,>=2.22.1->notebook>=6.0.3->modin-spreadsheet>=0.1.0->modin[all]) (2.14.0)\n",
      "Requirement already satisfied: json5>=0.9.0 in ./.local/lib/python3.9/site-packages (from jupyterlab-server<3,>=2.22.1->notebook>=6.0.3->modin-spreadsheet>=0.1.0->modin[all]) (0.9.14)\n",
      "Requirement already satisfied: beautifulsoup4 in ./.local/lib/python3.9/site-packages (from nbconvert->jupyter>=1.0.0->modin-spreadsheet>=0.1.0->modin[all]) (4.12.3)\n",
      "Requirement already satisfied: bleach!=5.0.0 in ./.local/lib/python3.9/site-packages (from nbconvert->jupyter>=1.0.0->modin-spreadsheet>=0.1.0->modin[all]) (6.1.0)\n",
      "Requirement already satisfied: defusedxml in ./.local/lib/python3.9/site-packages (from nbconvert->jupyter>=1.0.0->modin-spreadsheet>=0.1.0->modin[all]) (0.7.1)\n",
      "Requirement already satisfied: jupyterlab-pygments in ./.local/lib/python3.9/site-packages (from nbconvert->jupyter>=1.0.0->modin-spreadsheet>=0.1.0->modin[all]) (0.3.0)\n",
      "Requirement already satisfied: mistune<4,>=2.0.3 in ./.local/lib/python3.9/site-packages (from nbconvert->jupyter>=1.0.0->modin-spreadsheet>=0.1.0->modin[all]) (3.0.2)\n",
      "Requirement already satisfied: nbclient>=0.5.0 in ./.local/lib/python3.9/site-packages (from nbconvert->jupyter>=1.0.0->modin-spreadsheet>=0.1.0->modin[all]) (0.9.0)\n",
      "Requirement already satisfied: pandocfilters>=1.4.1 in ./.local/lib/python3.9/site-packages (from nbconvert->jupyter>=1.0.0->modin-spreadsheet>=0.1.0->modin[all]) (1.5.1)\n",
      "Requirement already satisfied: tinycss2 in ./.local/lib/python3.9/site-packages (from nbconvert->jupyter>=1.0.0->modin-spreadsheet>=0.1.0->modin[all]) (1.2.1)\n",
      "Requirement already satisfied: qtpy>=2.4.0 in ./.local/lib/python3.9/site-packages (from qtconsole->jupyter>=1.0.0->modin-spreadsheet>=0.1.0->modin[all]) (2.4.1)\n",
      "Requirement already satisfied: sniffio>=1.1 in ./.local/lib/python3.9/site-packages (from anyio>=3.1.0->jupyter-server<3,>=2.4.0->notebook>=6.0.3->modin-spreadsheet>=0.1.0->modin[all]) (1.3.0)\n",
      "Requirement already satisfied: webencodings in ./.local/lib/python3.9/site-packages (from bleach!=5.0.0->nbconvert->jupyter>=1.0.0->modin-spreadsheet>=0.1.0->modin[all]) (0.5.1)\n",
      "Collecting cachetools<6.0,>=2.0.0 (from google-auth<3.0.dev0,>=2.14.1->google-api-core<3.0.0,>=1.0.0->opencensus->ray[default]!=2.5.0,>=1.13.0->modin[all])\n",
      "  Downloading cachetools-5.3.2-py3-none-any.whl (9.3 kB)\n",
      "Collecting pyasn1-modules>=0.2.1 (from google-auth<3.0.dev0,>=2.14.1->google-api-core<3.0.0,>=1.0.0->opencensus->ray[default]!=2.5.0,>=1.13.0->modin[all])\n",
      "  Using cached pyasn1_modules-0.3.0-py2.py3-none-any.whl (181 kB)\n",
      "Collecting rsa<5,>=3.1.4 (from google-auth<3.0.dev0,>=2.14.1->google-api-core<3.0.0,>=1.0.0->opencensus->ray[default]!=2.5.0,>=1.13.0->modin[all])\n",
      "  Using cached rsa-4.9-py3-none-any.whl (34 kB)\n",
      "Requirement already satisfied: httpcore==1.* in ./.local/lib/python3.9/site-packages (from httpx>=0.25.0->jupyterlab<5,>=4.0.2->notebook>=6.0.3->modin-spreadsheet>=0.1.0->modin[all]) (1.0.2)\n",
      "Requirement already satisfied: h11<0.15,>=0.13 in ./.local/lib/python3.9/site-packages (from httpcore==1.*->httpx>=0.25.0->jupyterlab<5,>=4.0.2->notebook>=6.0.3->modin-spreadsheet>=0.1.0->modin[all]) (0.14.0)\n",
      "Requirement already satisfied: parso<0.9.0,>=0.8.0 in /opt/intel/oneapi/modin/0.23.0.0/lib/python3.9/site-packages (from jedi>=0.16->ipython>=6.1.0->ipywidgets>=7.0.0->modin-spreadsheet>=0.1.0->modin[all]) (0.8.3)\n",
      "Requirement already satisfied: python-json-logger>=2.0.4 in ./.local/lib/python3.9/site-packages (from jupyter-events>=0.9.0->jupyter-server<3,>=2.4.0->notebook>=6.0.3->modin-spreadsheet>=0.1.0->modin[all]) (2.0.7)\n",
      "Requirement already satisfied: rfc3339-validator in ./.local/lib/python3.9/site-packages (from jupyter-events>=0.9.0->jupyter-server<3,>=2.4.0->notebook>=6.0.3->modin-spreadsheet>=0.1.0->modin[all]) (0.1.4)\n",
      "Requirement already satisfied: rfc3986-validator>=0.1.1 in ./.local/lib/python3.9/site-packages (from jupyter-events>=0.9.0->jupyter-server<3,>=2.4.0->notebook>=6.0.3->modin-spreadsheet>=0.1.0->modin[all]) (0.1.1)\n",
      "Requirement already satisfied: fastjsonschema in ./.local/lib/python3.9/site-packages (from nbformat>=5.3.0->jupyter-server<3,>=2.4.0->notebook>=6.0.3->modin-spreadsheet>=0.1.0->modin[all]) (2.19.1)\n",
      "Requirement already satisfied: ptyprocess>=0.5 in /opt/intel/oneapi/modin/0.23.0.0/lib/python3.9/site-packages (from pexpect>4.3->ipython>=6.1.0->ipywidgets>=7.0.0->modin-spreadsheet>=0.1.0->modin[all]) (0.7.0)\n",
      "Requirement already satisfied: argon2-cffi-bindings in ./.local/lib/python3.9/site-packages (from argon2-cffi->jupyter-server<3,>=2.4.0->notebook>=6.0.3->modin-spreadsheet>=0.1.0->modin[all]) (21.2.0)\n",
      "Requirement already satisfied: soupsieve>1.2 in ./.local/lib/python3.9/site-packages (from beautifulsoup4->nbconvert->jupyter>=1.0.0->modin-spreadsheet>=0.1.0->modin[all]) (2.5)\n",
      "Requirement already satisfied: executing in /opt/intel/oneapi/modin/0.23.0.0/lib/python3.9/site-packages (from stack-data->ipython>=6.1.0->ipywidgets>=7.0.0->modin-spreadsheet>=0.1.0->modin[all]) (0.8.3)\n",
      "Requirement already satisfied: asttokens in /opt/intel/oneapi/modin/0.23.0.0/lib/python3.9/site-packages (from stack-data->ipython>=6.1.0->ipywidgets>=7.0.0->modin-spreadsheet>=0.1.0->modin[all]) (2.0.5)\n",
      "Requirement already satisfied: pure-eval in /opt/intel/oneapi/modin/0.23.0.0/lib/python3.9/site-packages (from stack-data->ipython>=6.1.0->ipywidgets>=7.0.0->modin-spreadsheet>=0.1.0->modin[all]) (0.2.2)\n",
      "Requirement already satisfied: fqdn in ./.local/lib/python3.9/site-packages (from jsonschema->ray[default]!=2.5.0,>=1.13.0->modin[all]) (1.5.1)\n",
      "Requirement already satisfied: isoduration in ./.local/lib/python3.9/site-packages (from jsonschema->ray[default]!=2.5.0,>=1.13.0->modin[all]) (20.11.0)\n",
      "Requirement already satisfied: jsonpointer>1.13 in ./.local/lib/python3.9/site-packages (from jsonschema->ray[default]!=2.5.0,>=1.13.0->modin[all]) (2.4)\n",
      "Requirement already satisfied: uri-template in ./.local/lib/python3.9/site-packages (from jsonschema->ray[default]!=2.5.0,>=1.13.0->modin[all]) (1.3.0)\n",
      "Requirement already satisfied: webcolors>=1.11 in ./.local/lib/python3.9/site-packages (from jsonschema->ray[default]!=2.5.0,>=1.13.0->modin[all]) (1.13)\n",
      "Collecting pyasn1<0.6.0,>=0.4.6 (from pyasn1-modules>=0.2.1->google-auth<3.0.dev0,>=2.14.1->google-api-core<3.0.0,>=1.0.0->opencensus->ray[default]!=2.5.0,>=1.13.0->modin[all])\n",
      "  Downloading pyasn1-0.5.1-py2.py3-none-any.whl (84 kB)\n",
      "\u001b[2K     \u001b[90m━━━━━━━━━━━━━━━━━━━━━━━━━━━━━━━━━━━━━━━\u001b[0m \u001b[32m84.9/84.9 kB\u001b[0m \u001b[31m345.9 kB/s\u001b[0m eta \u001b[36m0:00:00\u001b[0ma \u001b[36m0:00:01\u001b[0m\n",
      "\u001b[?25hCollecting cffi>=1.0.1 (from argon2-cffi-bindings->argon2-cffi->jupyter-server<3,>=2.4.0->notebook>=6.0.3->modin-spreadsheet>=0.1.0->modin[all])\n",
      "  Downloading cffi-1.16.0-cp39-cp39-manylinux_2_17_x86_64.manylinux2014_x86_64.whl (443 kB)\n",
      "\u001b[2K     \u001b[90m━━━━━━━━━━━━━━━━━━━━━━━━━━━━━━━━━━━━━\u001b[0m \u001b[32m443.4/443.4 kB\u001b[0m \u001b[31m339.1 kB/s\u001b[0m eta \u001b[36m0:00:00\u001b[0m00:01\u001b[0m00:01\u001b[0m\n",
      "\u001b[?25hCollecting pycparser (from cffi>=1.0.1->argon2-cffi-bindings->argon2-cffi->jupyter-server<3,>=2.4.0->notebook>=6.0.3->modin-spreadsheet>=0.1.0->modin[all])\n",
      "  Downloading pycparser-2.21-py2.py3-none-any.whl (118 kB)\n",
      "\u001b[2K     \u001b[90m━━━━━━━━━━━━━━━━━━━━━━━━━━━━━━━━━━━━━\u001b[0m \u001b[32m118.7/118.7 kB\u001b[0m \u001b[31m299.6 kB/s\u001b[0m eta \u001b[36m0:00:00\u001b[0ma \u001b[36m0:00:01\u001b[0m\n",
      "\u001b[?25hRequirement already satisfied: arrow>=0.15.0 in ./.local/lib/python3.9/site-packages (from isoduration->jsonschema->ray[default]!=2.5.0,>=1.13.0->modin[all]) (1.3.0)\n",
      "Requirement already satisfied: types-python-dateutil>=2.8.10 in ./.local/lib/python3.9/site-packages (from arrow>=0.15.0->isoduration->jsonschema->ray[default]!=2.5.0,>=1.13.0->modin[all]) (2.8.19.20240106)\n",
      "\u001b[33mWARNING: Ignoring invalid distribution -andas (/home/u4e33ad748ff676fc8f11a9fce6da521/.local/lib/python3.9/site-packages)\u001b[0m\u001b[33m\n",
      "\u001b[0mInstalling collected packages: pycparser, pyasn1, multidict, cachetools, async-timeout, yarl, rsa, pyasn1-modules, cffi, aiohttp\n",
      "\u001b[33m  WARNING: The scripts pyrsa-decrypt, pyrsa-encrypt, pyrsa-keygen, pyrsa-priv2pub, pyrsa-sign and pyrsa-verify are installed in '/home/u4e33ad748ff676fc8f11a9fce6da521/.local/bin' which is not on PATH.\n",
      "  Consider adding this directory to PATH or, if you prefer to suppress this warning, use --no-warn-script-location.\u001b[0m\u001b[33m\n",
      "\u001b[0m\u001b[31mERROR: pip's dependency resolver does not currently take into account all the packages that are installed. This behaviour is the source of the following dependency conflicts.\n",
      "tensorboard 2.14.1 requires absl-py>=0.4, which is not installed.\n",
      "tensorboard 2.14.1 requires google-auth-oauthlib<1.1,>=0.5, which is not installed.\n",
      "tensorboard 2.14.1 requires markdown>=2.6.8, which is not installed.\n",
      "tensorboard 2.14.1 requires tensorboard-data-server<0.8.0,>=0.7.0, which is not installed.\n",
      "tensorboard 2.14.1 requires grpcio>=1.48.2, but you have grpcio 1.44.0 which is incompatible.\u001b[0m\u001b[31m\n",
      "\u001b[0mSuccessfully installed aiohttp-3.9.3 async-timeout-4.0.3 cachetools-5.3.2 cffi-1.16.0 multidict-6.0.5 pyasn1-0.5.1 pyasn1-modules-0.3.0 pycparser-2.21 rsa-4.9 yarl-1.9.4\n",
      "\u001b[33mWARNING: Ignoring invalid distribution -andas (/home/u4e33ad748ff676fc8f11a9fce6da521/.local/lib/python3.9/site-packages)\u001b[0m\u001b[33m\n",
      "\u001b[0m\u001b[33mWARNING: Ignoring invalid distribution -andas (/home/u4e33ad748ff676fc8f11a9fce6da521/.local/lib/python3.9/site-packages)\u001b[0m\u001b[33m\n",
      "\u001b[0m\u001b[33mWARNING: Ignoring invalid distribution -andas (/home/u4e33ad748ff676fc8f11a9fce6da521/.local/lib/python3.9/site-packages)\u001b[0m\u001b[33m\n",
      "\u001b[0mNote: you may need to restart the kernel to use updated packages.\n"
     ]
    }
   ],
   "source": [
    "pip install modin[all]"
   ]
  },
  {
   "cell_type": "code",
   "execution_count": 2,
   "metadata": {},
   "outputs": [
    {
     "name": "stdout",
     "output_type": "stream",
     "text": [
      "Defaulting to user installation because normal site-packages is not writeable\n",
      "\u001b[33mWARNING: Ignoring invalid distribution -andas (/home/u4e33ad748ff676fc8f11a9fce6da521/.local/lib/python3.9/site-packages)\u001b[0m\u001b[33m\n",
      "\u001b[0m\u001b[33mWARNING: Ignoring invalid distribution -andas (/home/u4e33ad748ff676fc8f11a9fce6da521/.local/lib/python3.9/site-packages)\u001b[0m\u001b[33m\n",
      "\u001b[0mRequirement already satisfied: intel-tensorflow in ./.local/lib/python3.9/site-packages (2.14.0)\n",
      "Collecting absl-py>=1.0.0 (from intel-tensorflow)\n",
      "  Downloading absl_py-2.1.0-py3-none-any.whl (133 kB)\n",
      "\u001b[2K     \u001b[90m━━━━━━━━━━━━━━━━━━━━━━━━━━━━━━━━━━━━━\u001b[0m \u001b[32m133.7/133.7 kB\u001b[0m \u001b[31m235.4 kB/s\u001b[0m eta \u001b[36m0:00:00\u001b[0ma \u001b[36m0:00:01\u001b[0m\n",
      "\u001b[?25hCollecting astunparse>=1.6.0 (from intel-tensorflow)\n",
      "  Downloading astunparse-1.6.3-py2.py3-none-any.whl (12 kB)\n",
      "Collecting flatbuffers>=23.5.26 (from intel-tensorflow)\n",
      "  Downloading flatbuffers-23.5.26-py2.py3-none-any.whl (26 kB)\n",
      "Collecting gast!=0.5.0,!=0.5.1,!=0.5.2,>=0.2.1 (from intel-tensorflow)\n",
      "  Downloading gast-0.5.4-py3-none-any.whl (19 kB)\n",
      "Collecting google-pasta>=0.1.1 (from intel-tensorflow)\n",
      "  Downloading google_pasta-0.2.0-py3-none-any.whl (57 kB)\n",
      "\u001b[2K     \u001b[90m━━━━━━━━━━━━━━━━━━━━━━━━━━━━━━━━━━━━━━━━\u001b[0m \u001b[32m57.5/57.5 kB\u001b[0m \u001b[31m88.8 kB/s\u001b[0m eta \u001b[36m0:00:00\u001b[0ma \u001b[36m0:00:01\u001b[0m\n",
      "\u001b[?25hCollecting h5py>=2.9.0 (from intel-tensorflow)\n",
      "  Downloading h5py-3.10.0-cp39-cp39-manylinux_2_17_x86_64.manylinux2014_x86_64.whl (4.8 MB)\n",
      "\u001b[2K     \u001b[90m━━━━━━━━━━━━━━━━━━━━━━━━━━━━━━━━━━━━━━━━\u001b[0m \u001b[32m4.8/4.8 MB\u001b[0m \u001b[31m107.4 kB/s\u001b[0m eta \u001b[36m0:00:00\u001b[0m00:01\u001b[0m00:02\u001b[0m\n",
      "\u001b[?25hRequirement already satisfied: libclang>=13.0.0 in ./.local/lib/python3.9/site-packages (from intel-tensorflow) (16.0.6)\n",
      "Requirement already satisfied: ml-dtypes==0.2.0 in ./.local/lib/python3.9/site-packages (from intel-tensorflow) (0.2.0)\n",
      "Requirement already satisfied: numpy>=1.23.5 in ./.local/lib/python3.9/site-packages (from intel-tensorflow) (1.23.5)\n",
      "Collecting opt-einsum>=2.3.2 (from intel-tensorflow)\n",
      "  Downloading opt_einsum-3.3.0-py3-none-any.whl (65 kB)\n",
      "\u001b[2K     \u001b[90m━━━━━━━━━━━━━━━━━━━━━━━━━━━━━━━━━━━━━━━\u001b[0m \u001b[32m65.5/65.5 kB\u001b[0m \u001b[31m102.4 kB/s\u001b[0m eta \u001b[36m0:00:00\u001b[0ma \u001b[36m0:00:01\u001b[0m\n",
      "\u001b[?25hRequirement already satisfied: packaging in /opt/intel/oneapi/modin/0.23.0.0/lib/python3.9/site-packages (from intel-tensorflow) (23.1)\n",
      "Requirement already satisfied: protobuf!=4.21.0,!=4.21.1,!=4.21.2,!=4.21.3,!=4.21.4,!=4.21.5,<5.0.0dev,>=3.20.3 in /opt/intel/oneapi/modin/0.23.0.0/lib/python3.9/site-packages (from intel-tensorflow) (4.23.2)\n",
      "Requirement already satisfied: setuptools in /opt/intel/oneapi/modin/0.23.0.0/lib/python3.9/site-packages (from intel-tensorflow) (67.7.2)\n",
      "Requirement already satisfied: six>=1.12.0 in /opt/intel/oneapi/modin/0.23.0.0/lib/python3.9/site-packages (from intel-tensorflow) (1.16.0)\n",
      "Collecting termcolor>=1.1.0 (from intel-tensorflow)\n",
      "  Downloading termcolor-2.4.0-py3-none-any.whl (7.7 kB)\n",
      "Requirement already satisfied: typing-extensions>=3.6.6 in ./.local/lib/python3.9/site-packages (from intel-tensorflow) (4.9.0)\n",
      "Requirement already satisfied: wrapt<1.15,>=1.11.0 in ./.local/lib/python3.9/site-packages (from intel-tensorflow) (1.14.1)\n",
      "Requirement already satisfied: tensorflow-io-gcs-filesystem>=0.23.1 in ./.local/lib/python3.9/site-packages (from intel-tensorflow) (0.36.0)\n",
      "Requirement already satisfied: grpcio<2.0,>=1.24.3 in /opt/intel/oneapi/modin/0.23.0.0/lib/python3.9/site-packages (from intel-tensorflow) (1.44.0)\n",
      "Requirement already satisfied: tensorboard<2.15,>=2.14 in ./.local/lib/python3.9/site-packages (from intel-tensorflow) (2.14.1)\n",
      "Requirement already satisfied: tensorflow-estimator<2.15,>=2.14.0 in ./.local/lib/python3.9/site-packages (from intel-tensorflow) (2.14.0)\n",
      "Requirement already satisfied: keras<2.15,>=2.14.0 in ./.local/lib/python3.9/site-packages (from intel-tensorflow) (2.14.0)\n",
      "Requirement already satisfied: wheel<1.0,>=0.23.0 in /opt/intel/oneapi/modin/0.23.0.0/lib/python3.9/site-packages (from astunparse>=1.6.0->intel-tensorflow) (0.40.0)\n",
      "Collecting grpcio<2.0,>=1.24.3 (from intel-tensorflow)\n",
      "  Downloading grpcio-1.60.1-cp39-cp39-manylinux_2_17_x86_64.manylinux2014_x86_64.whl (5.4 MB)\n",
      "\u001b[2K     \u001b[90m━━━━━━━━━━━━━━━━━━━━━━━━━━━━━━━━━━━━━━━━\u001b[0m \u001b[32m5.4/5.4 MB\u001b[0m \u001b[31m76.5 kB/s\u001b[0m eta \u001b[36m0:00:00\u001b[0m00:01\u001b[0m00:02\u001b[0mm\n",
      "\u001b[?25hRequirement already satisfied: google-auth<3,>=1.6.3 in ./.local/lib/python3.9/site-packages (from tensorboard<2.15,>=2.14->intel-tensorflow) (2.27.0)\n",
      "Collecting google-auth-oauthlib<1.1,>=0.5 (from tensorboard<2.15,>=2.14->intel-tensorflow)\n",
      "  Downloading google_auth_oauthlib-1.0.0-py2.py3-none-any.whl (18 kB)\n",
      "Collecting markdown>=2.6.8 (from tensorboard<2.15,>=2.14->intel-tensorflow)\n",
      "  Downloading Markdown-3.5.2-py3-none-any.whl (103 kB)\n",
      "\u001b[2K     \u001b[90m━━━━━━━━━━━━━━━━━━━━━━━━━━━━━━━━━━━━━\u001b[0m \u001b[32m103.9/103.9 kB\u001b[0m \u001b[31m128.4 kB/s\u001b[0m eta \u001b[36m0:00:00\u001b[0m00:01\u001b[0m00:01\u001b[0m\n",
      "\u001b[?25hRequirement already satisfied: requests<3,>=2.21.0 in /opt/intel/oneapi/modin/0.23.0.0/lib/python3.9/site-packages (from tensorboard<2.15,>=2.14->intel-tensorflow) (2.31.0)\n",
      "Collecting tensorboard-data-server<0.8.0,>=0.7.0 (from tensorboard<2.15,>=2.14->intel-tensorflow)\n",
      "  Downloading tensorboard_data_server-0.7.2-py3-none-manylinux_2_31_x86_64.whl (6.6 MB)\n",
      "\u001b[2K     \u001b[90m━━━━━━━━━━━━━━━━━━━━━━━━━━━━━━━━━━━━━━━━\u001b[0m \u001b[32m6.6/6.6 MB\u001b[0m \u001b[31m141.7 kB/s\u001b[0m eta \u001b[36m0:00:00\u001b[0m00:01\u001b[0m00:02\u001b[0m\n",
      "\u001b[?25hRequirement already satisfied: werkzeug>=1.0.1 in ./.local/lib/python3.9/site-packages (from tensorboard<2.15,>=2.14->intel-tensorflow) (3.0.1)\n",
      "Requirement already satisfied: cachetools<6.0,>=2.0.0 in ./.local/lib/python3.9/site-packages (from google-auth<3,>=1.6.3->tensorboard<2.15,>=2.14->intel-tensorflow) (5.3.2)\n",
      "Requirement already satisfied: pyasn1-modules>=0.2.1 in ./.local/lib/python3.9/site-packages (from google-auth<3,>=1.6.3->tensorboard<2.15,>=2.14->intel-tensorflow) (0.3.0)\n",
      "Requirement already satisfied: rsa<5,>=3.1.4 in ./.local/lib/python3.9/site-packages (from google-auth<3,>=1.6.3->tensorboard<2.15,>=2.14->intel-tensorflow) (4.9)\n",
      "Collecting requests-oauthlib>=0.7.0 (from google-auth-oauthlib<1.1,>=0.5->tensorboard<2.15,>=2.14->intel-tensorflow)\n",
      "  Downloading requests_oauthlib-1.3.1-py2.py3-none-any.whl (23 kB)\n",
      "Requirement already satisfied: importlib-metadata>=4.4 in /opt/intel/oneapi/modin/0.23.0.0/lib/python3.9/site-packages (from markdown>=2.6.8->tensorboard<2.15,>=2.14->intel-tensorflow) (6.0.0)\n",
      "Requirement already satisfied: charset-normalizer<4,>=2 in /opt/intel/oneapi/modin/0.23.0.0/lib/python3.9/site-packages (from requests<3,>=2.21.0->tensorboard<2.15,>=2.14->intel-tensorflow) (3.1.0)\n",
      "Requirement already satisfied: idna<4,>=2.5 in /opt/intel/oneapi/modin/0.23.0.0/lib/python3.9/site-packages (from requests<3,>=2.21.0->tensorboard<2.15,>=2.14->intel-tensorflow) (3.4)\n",
      "Requirement already satisfied: urllib3<3,>=1.21.1 in /opt/intel/oneapi/modin/0.23.0.0/lib/python3.9/site-packages (from requests<3,>=2.21.0->tensorboard<2.15,>=2.14->intel-tensorflow) (2.0.3)\n",
      "Requirement already satisfied: certifi>=2017.4.17 in /opt/intel/oneapi/modin/0.23.0.0/lib/python3.9/site-packages (from requests<3,>=2.21.0->tensorboard<2.15,>=2.14->intel-tensorflow) (2023.7.22)\n",
      "Requirement already satisfied: MarkupSafe>=2.1.1 in ./.local/lib/python3.9/site-packages (from werkzeug>=1.0.1->tensorboard<2.15,>=2.14->intel-tensorflow) (2.1.5)\n",
      "Requirement already satisfied: zipp>=0.5 in /opt/intel/oneapi/modin/0.23.0.0/lib/python3.9/site-packages (from importlib-metadata>=4.4->markdown>=2.6.8->tensorboard<2.15,>=2.14->intel-tensorflow) (3.16.2)\n",
      "Requirement already satisfied: pyasn1<0.6.0,>=0.4.6 in ./.local/lib/python3.9/site-packages (from pyasn1-modules>=0.2.1->google-auth<3,>=1.6.3->tensorboard<2.15,>=2.14->intel-tensorflow) (0.5.1)\n",
      "Collecting oauthlib>=3.0.0 (from requests-oauthlib>=0.7.0->google-auth-oauthlib<1.1,>=0.5->tensorboard<2.15,>=2.14->intel-tensorflow)\n",
      "  Downloading oauthlib-3.2.2-py3-none-any.whl (151 kB)\n",
      "\u001b[2K     \u001b[90m━━━━━━━━━━━━━━━━━━━━━━━━━━━━━━━━━━━━━\u001b[0m \u001b[32m151.7/151.7 kB\u001b[0m \u001b[31m138.5 kB/s\u001b[0m eta \u001b[36m0:00:00\u001b[0ma \u001b[36m0:00:01\u001b[0m\n",
      "\u001b[?25h\u001b[33mWARNING: Ignoring invalid distribution -andas (/home/u4e33ad748ff676fc8f11a9fce6da521/.local/lib/python3.9/site-packages)\u001b[0m\u001b[33m\n",
      "\u001b[0mInstalling collected packages: flatbuffers, termcolor, tensorboard-data-server, opt-einsum, oauthlib, h5py, grpcio, google-pasta, gast, astunparse, absl-py, requests-oauthlib, markdown, google-auth-oauthlib\n",
      "\u001b[33m  WARNING: The script markdown_py is installed in '/home/u4e33ad748ff676fc8f11a9fce6da521/.local/bin' which is not on PATH.\n",
      "  Consider adding this directory to PATH or, if you prefer to suppress this warning, use --no-warn-script-location.\u001b[0m\u001b[33m\n",
      "\u001b[0m\u001b[33m  WARNING: The script google-oauthlib-tool is installed in '/home/u4e33ad748ff676fc8f11a9fce6da521/.local/bin' which is not on PATH.\n",
      "  Consider adding this directory to PATH or, if you prefer to suppress this warning, use --no-warn-script-location.\u001b[0m\u001b[33m\n",
      "\u001b[0mSuccessfully installed absl-py-2.1.0 astunparse-1.6.3 flatbuffers-23.5.26 gast-0.5.4 google-auth-oauthlib-1.0.0 google-pasta-0.2.0 grpcio-1.60.1 h5py-3.10.0 markdown-3.5.2 oauthlib-3.2.2 opt-einsum-3.3.0 requests-oauthlib-1.3.1 tensorboard-data-server-0.7.2 termcolor-2.4.0\n",
      "\u001b[33mWARNING: Ignoring invalid distribution -andas (/home/u4e33ad748ff676fc8f11a9fce6da521/.local/lib/python3.9/site-packages)\u001b[0m\u001b[33m\n",
      "\u001b[0m\u001b[33mWARNING: Ignoring invalid distribution -andas (/home/u4e33ad748ff676fc8f11a9fce6da521/.local/lib/python3.9/site-packages)\u001b[0m\u001b[33m\n",
      "\u001b[0m\u001b[33mWARNING: Ignoring invalid distribution -andas (/home/u4e33ad748ff676fc8f11a9fce6da521/.local/lib/python3.9/site-packages)\u001b[0m\u001b[33m\n",
      "\u001b[0mNote: you may need to restart the kernel to use updated packages.\n"
     ]
    }
   ],
   "source": [
    "pip install intel-tensorflow"
   ]
  },
  {
   "cell_type": "code",
   "execution_count": 3,
   "metadata": {},
   "outputs": [
    {
     "name": "stdout",
     "output_type": "stream",
     "text": [
      "Defaulting to user installation because normal site-packages is not writeable\n",
      "\u001b[33mWARNING: Ignoring invalid distribution -andas (/home/u4e33ad748ff676fc8f11a9fce6da521/.local/lib/python3.9/site-packages)\u001b[0m\u001b[33m\n",
      "\u001b[0m\u001b[33mWARNING: Ignoring invalid distribution -andas (/home/u4e33ad748ff676fc8f11a9fce6da521/.local/lib/python3.9/site-packages)\u001b[0m\u001b[33m\n",
      "\u001b[0mRequirement already satisfied: scikit-learn-intelex in ./.local/lib/python3.9/site-packages (2024.1.0)\n",
      "Requirement already satisfied: daal4py==2024.1.0 in ./.local/lib/python3.9/site-packages (from scikit-learn-intelex) (2024.1.0)\n",
      "Collecting scikit-learn>=0.22 (from scikit-learn-intelex)\n",
      "  Downloading scikit_learn-1.4.0-1-cp39-cp39-manylinux_2_17_x86_64.manylinux2014_x86_64.whl (12.1 MB)\n",
      "\u001b[2K     \u001b[90m━━━━━━━━━━━━━━━━━━━━━━━━━━━━━━━━━━━━━━━━\u001b[0m \u001b[32m12.1/12.1 MB\u001b[0m \u001b[31m96.8 kB/s\u001b[0m eta \u001b[36m0:00:00\u001b[0m00:01\u001b[0m00:04\u001b[0m\n",
      "\u001b[?25hRequirement already satisfied: daal==2024.1.0 in ./.local/lib/python3.9/site-packages (from daal4py==2024.1.0->scikit-learn-intelex) (2024.1.0)\n",
      "Requirement already satisfied: numpy>=1.19 in ./.local/lib/python3.9/site-packages (from daal4py==2024.1.0->scikit-learn-intelex) (1.23.5)\n",
      "Requirement already satisfied: tbb==2021.* in ./.local/lib/python3.9/site-packages (from daal==2024.1.0->daal4py==2024.1.0->scikit-learn-intelex) (2021.11.0)\n",
      "Collecting scipy>=1.6.0 (from scikit-learn>=0.22->scikit-learn-intelex)\n",
      "  Downloading scipy-1.12.0-cp39-cp39-manylinux_2_17_x86_64.manylinux2014_x86_64.whl (38.5 MB)\n",
      "\u001b[2K     \u001b[90m━━━━━━━━━━━━━━━━━━━━━━━━━━━━━━━━━━━━━━━\u001b[0m \u001b[32m38.5/38.5 MB\u001b[0m \u001b[31m144.1 kB/s\u001b[0m eta \u001b[36m0:00:00\u001b[0m00:01\u001b[0m00:09\u001b[0m\n",
      "\u001b[?25hCollecting joblib>=1.2.0 (from scikit-learn>=0.22->scikit-learn-intelex)\n",
      "  Downloading joblib-1.3.2-py3-none-any.whl (302 kB)\n",
      "\u001b[2K     \u001b[90m━━━━━━━━━━━━━━━━━━━━━━━━━━━━━━━━━━━━━\u001b[0m \u001b[32m302.2/302.2 kB\u001b[0m \u001b[31m537.6 kB/s\u001b[0m eta \u001b[36m0:00:00\u001b[0m00:01\u001b[0m00:01\u001b[0m\n",
      "\u001b[?25hCollecting threadpoolctl>=2.0.0 (from scikit-learn>=0.22->scikit-learn-intelex)\n",
      "  Downloading threadpoolctl-3.2.0-py3-none-any.whl (15 kB)\n",
      "\u001b[33mWARNING: Ignoring invalid distribution -andas (/home/u4e33ad748ff676fc8f11a9fce6da521/.local/lib/python3.9/site-packages)\u001b[0m\u001b[33m\n",
      "\u001b[0mInstalling collected packages: threadpoolctl, scipy, joblib, scikit-learn\n",
      "\u001b[31mERROR: pip's dependency resolver does not currently take into account all the packages that are installed. This behaviour is the source of the following dependency conflicts.\n",
      "shap 0.44.1 requires numba, which is not installed.\n",
      "shapash 2.4.2 requires numba>=0.53.1, which is not installed.\n",
      "shapash 2.4.2 requires scikit-learn<1.4,>=1.0.1, but you have scikit-learn 1.4.0 which is incompatible.\u001b[0m\u001b[31m\n",
      "\u001b[0mSuccessfully installed joblib-1.3.2 scikit-learn-1.4.0 scipy-1.12.0 threadpoolctl-3.2.0\n",
      "\u001b[33mWARNING: Ignoring invalid distribution -andas (/home/u4e33ad748ff676fc8f11a9fce6da521/.local/lib/python3.9/site-packages)\u001b[0m\u001b[33m\n",
      "\u001b[0m\u001b[33mWARNING: Ignoring invalid distribution -andas (/home/u4e33ad748ff676fc8f11a9fce6da521/.local/lib/python3.9/site-packages)\u001b[0m\u001b[33m\n",
      "\u001b[0m\u001b[33mWARNING: Ignoring invalid distribution -andas (/home/u4e33ad748ff676fc8f11a9fce6da521/.local/lib/python3.9/site-packages)\u001b[0m\u001b[33m\n",
      "\u001b[0mNote: you may need to restart the kernel to use updated packages.\n"
     ]
    }
   ],
   "source": [
    "pip install scikit-learn-intelex"
   ]
  },
  {
   "cell_type": "code",
   "execution_count": 4,
   "metadata": {
    "colab": {
     "base_uri": "https://localhost:8080/",
     "height": 0
    },
    "id": "17naYU9AOYqQ",
    "outputId": "b2451b0b-2403-4be5-ea6f-2887c52e0068"
   },
   "outputs": [
    {
     "data": {
      "text/html": [
       "        <script type=\"text/javascript\">\n",
       "        window.PlotlyConfig = {MathJaxConfig: 'local'};\n",
       "        if (window.MathJax && window.MathJax.Hub && window.MathJax.Hub.Config) {window.MathJax.Hub.Config({SVG: {font: \"STIX-Web\"}});}\n",
       "        if (typeof require !== 'undefined') {\n",
       "        require.undef(\"plotly\");\n",
       "        requirejs.config({\n",
       "            paths: {\n",
       "                'plotly': ['https://cdn.plot.ly/plotly-2.27.0.min']\n",
       "            }\n",
       "        });\n",
       "        require(['plotly'], function(Plotly) {\n",
       "            window._Plotly = Plotly;\n",
       "        });\n",
       "        }\n",
       "        </script>\n",
       "        "
      ]
     },
     "metadata": {},
     "output_type": "display_data"
    },
    {
     "name": "stderr",
     "output_type": "stream",
     "text": [
      "2024-02-11 09:33:04.525464: I tensorflow/core/platform/cpu_feature_guard.cc:181] Beginning TensorFlow 2.15, this package will be updated to install stock TensorFlow 2.15 alongside Intel's TensorFlow CPU extension plugin, which provides all the optimizations available in the package and more. If a compatible version of stock TensorFlow is present, only the extension will get installed. No changes to code or installation setup is needed as a result of this change.\n",
      "More information on Intel's optimizations for TensorFlow, delivered as TensorFlow extension plugin can be viewed at https://github.com/intel/intel-extension-for-tensorflow.\n",
      "2024-02-11 09:33:04.525656: I tensorflow/core/platform/cpu_feature_guard.cc:192] This TensorFlow binary is optimized to use available CPU instructions in performance-critical operations.\n",
      "To enable the following instructions: AVX2 AVX512F AVX512_VNNI AVX512_BF16 AVX_VNNI AMX_TILE AMX_INT8 AMX_BF16 FMA, in other operations, rebuild TensorFlow with the appropriate compiler flags.\n"
     ]
    }
   ],
   "source": [
    "import modin.pandas as pd\n",
    "import numpy as np\n",
    "\n",
    "import warnings\n",
    "\n",
    "import matplotlib.pyplot as plt\n",
    "%matplotlib inline\n",
    "import chart_studio.plotly as py\n",
    "import plotly.graph_objs as go\n",
    "from plotly.offline import plot\n",
    "from plotly.offline import download_plotlyjs, init_notebook_mode, plot, iplot\n",
    "init_notebook_mode(connected=True)\n",
    "\n",
    "from sklearn.model_selection import train_test_split\n",
    "\n",
    "from sklearn.linear_model import LinearRegression\n",
    "from sklearn import svm\n",
    "from sklearn.tree import DecisionTreeRegressor\n",
    "from sklearn.neighbors import KNeighborsRegressor\n",
    "from sklearn.ensemble import RandomForestRegressor\n",
    "\n",
    "import sklearn.metrics as metrics\n",
    "from sklearn.preprocessing import MinMaxScaler\n",
    "from sklearn.preprocessing import StandardScaler\n",
    "from sklearn.metrics import mean_squared_error as mse\n",
    "from sklearn.metrics import r2_score\n",
    "\n",
    "\n",
    "import tensorflow as tf\n",
    "from tensorflow.keras.models import Sequential\n",
    "from tensorflow.keras.layers import Dense,LSTM,Dropout"
   ]
  },
  {
   "cell_type": "code",
   "execution_count": 5,
   "metadata": {},
   "outputs": [],
   "source": [
    "warnings.filterwarnings('ignore')"
   ]
  },
  {
   "cell_type": "markdown",
   "metadata": {
    "id": "aPED5I-2pWsj"
   },
   "source": [
    "# Data Preprocessing"
   ]
  },
  {
   "cell_type": "code",
   "execution_count": null,
   "metadata": {},
   "outputs": [],
   "source": [
    "#Load the dataset\n",
    "stock = pd.read_csv(\"msft-daily-max.csv\")\n",
    "stock.head()"
   ]
  },
  {
   "cell_type": "code",
   "execution_count": 1,
   "metadata": {
    "id": "98x4tGWPOdfY"
   },
   "outputs": [
    {
     "ename": "NameError",
     "evalue": "name 'pd' is not defined",
     "output_type": "error",
     "traceback": [
      "\u001b[0;31m---------------------------------------------------------------------------\u001b[0m",
      "\u001b[0;31mNameError\u001b[0m                                 Traceback (most recent call last)",
      "Cell \u001b[0;32mIn[1], line 2\u001b[0m\n\u001b[1;32m      1\u001b[0m \u001b[38;5;28;01mfrom\u001b[39;00m \u001b[38;5;21;01mdatetime\u001b[39;00m \u001b[38;5;28;01mimport\u001b[39;00m datetime\n\u001b[0;32m----> 2\u001b[0m stock[\u001b[38;5;124m'\u001b[39m\u001b[38;5;124mDate\u001b[39m\u001b[38;5;124m'\u001b[39m] \u001b[38;5;241m=\u001b[39m \u001b[43mpd\u001b[49m\u001b[38;5;241m.\u001b[39mto_datetime(stock[\u001b[38;5;124m'\u001b[39m\u001b[38;5;124mDate\u001b[39m\u001b[38;5;124m'\u001b[39m])\n\u001b[1;32m      3\u001b[0m stock \u001b[38;5;241m=\u001b[39m stock\u001b[38;5;241m.\u001b[39mset_index(\u001b[38;5;124m'\u001b[39m\u001b[38;5;124mDate\u001b[39m\u001b[38;5;124m'\u001b[39m)\n",
      "\u001b[0;31mNameError\u001b[0m: name 'pd' is not defined"
     ]
    }
   ],
   "source": [
    "from datetime import datetime\n",
    "stock['Date'] = pd.to_datetime(stock['Date'])\n",
    "stock = stock.set_index('Date')"
   ]
  },
  {
   "cell_type": "code",
   "execution_count": null,
   "metadata": {
    "colab": {
     "base_uri": "https://localhost:8080/",
     "height": 238
    },
    "id": "cK3YHx9zOfwI",
    "outputId": "0a95d700-6549-4e8c-f45c-03ee510168ba"
   },
   "outputs": [],
   "source": [
    "stock.head()"
   ]
  },
  {
   "cell_type": "code",
   "execution_count": null,
   "metadata": {
    "colab": {
     "base_uri": "https://localhost:8080/",
     "height": 875
    },
    "id": "NweRDTUOqDYi",
    "outputId": "92f98ac9-a2bf-493b-fcc7-0610af030815"
   },
   "outputs": [],
   "source": [
    "# Box plot to check whether outliers are present or not\n",
    "\n",
    "stock[['Open','High','Low','Close','Adj Close',]].plot(kind='box')\n",
    "stock[['Volume']].plot(kind='box')"
   ]
  },
  {
   "cell_type": "code",
   "execution_count": null,
   "metadata": {
    "id": "zU4wRowkci7q"
   },
   "outputs": [],
   "source": [
    "q1, q3 = np.percentile(stock['Open'], [25, 75])\n",
    "# Calculate the interquartile range\n",
    "iqr = q3 - q1\n",
    "# Calculate the lower and upper bounds\n",
    "lower_bound = q1 - (1.5 * iqr)\n",
    "upper_bound = q3 + (1.5 * iqr)\n",
    "# Drop the outliers\n",
    "clean_data = stock[(stock['Open'] >= lower_bound)\n",
    "                & (stock['Open'] <= upper_bound)]\n",
    "\n",
    "q1, q3 = np.percentile(stock['High'], [25, 75])\n",
    "# Calculate the interquartile range\n",
    "iqr = q3 - q1\n",
    "# Calculate the lower and upper bounds\n",
    "lower_bound = q1 - (1.5 * iqr)\n",
    "upper_bound = q3 + (1.5 * iqr)\n",
    "# Drop the outliers\n",
    "clean_data = stock[(stock['High'] >= lower_bound)\n",
    "                & (stock['High'] <= upper_bound)]\n",
    "\n",
    "q1, q3 = np.percentile(stock['Low'], [25, 75])\n",
    "# Calculate the interquartile range\n",
    "iqr = q3 - q1\n",
    "# Calculate the lower and upper bounds\n",
    "lower_bound = q1 - (1.5 * iqr)\n",
    "upper_bound = q3 + (1.5 * iqr)\n",
    "# Drop the outliers\n",
    "clean_data = stock[(stock['Low'] >= lower_bound)\n",
    "                & (stock['Low'] <= upper_bound)]\n",
    "\n",
    "q1, q3 = np.percentile(stock['Close'], [25, 75])\n",
    "# Calculate the interquartile range\n",
    "iqr = q3 - q1\n",
    "# Calculate the lower and upper bounds\n",
    "lower_bound = q1 - (1.5 * iqr)\n",
    "upper_bound = q3 + (1.5 * iqr)\n",
    "# Drop the outliers\n",
    "clean_data = stock[(stock['Close'] >= lower_bound)\n",
    "                & (stock['Close'] <= upper_bound)]\n",
    "\n",
    "q1, q3 = np.percentile(stock['Adj Close'], [25, 75])\n",
    "# Calculate the interquartile range\n",
    "iqr = q3 - q1\n",
    "# Calculate the lower and upper bounds\n",
    "lower_bound = q1 - (1.5 * iqr)\n",
    "upper_bound = q3 + (1.5 * iqr)\n",
    "# Drop the outliers\n",
    "clean_data = stock[(stock['Adj Close'] >= lower_bound)\n",
    "                & (stock['Adj Close'] <= upper_bound)]\n",
    "\n",
    "q1, q3 = np.percentile(stock['Volume'], [25, 75])\n",
    "# Calculate the interquartile range\n",
    "iqr = q3 - q1\n",
    "# Calculate the lower and upper bounds\n",
    "lower_bound = q1 - (1.5 * iqr)\n",
    "upper_bound = q3 + (1.5 * iqr)\n",
    "# Drop the outliers\n",
    "clean_data = stock[(stock['Volume'] >= lower_bound)\n",
    "                & (stock['Volume'] <= upper_bound)]"
   ]
  },
  {
   "cell_type": "code",
   "execution_count": null,
   "metadata": {
    "colab": {
     "base_uri": "https://localhost:8080/",
     "height": 436
    },
    "id": "A1CPBUYkcjxj",
    "outputId": "8695810b-a48d-4402-a9b6-2c493b876b62"
   },
   "outputs": [],
   "source": [
    "train = clean_data.loc[clean_data.index < '01-02-2016']\n",
    "test = clean_data.loc[clean_data.index >= '01-02-2016']\n",
    "\n",
    "# Plot the data\n",
    "fig, ax = plt.subplots(figsize=(15, 5))\n",
    "train.plot(ax=ax, label='Training Set', title='Data Train/Test Split')\n",
    "test.plot(ax=ax, label='Test Set')\n",
    "ax.axvline('01-02-2016', color='black', linestyle='--')\n",
    "ax.legend(['Training Set', 'Test Set'])\n",
    "plt.show()"
   ]
  },
  {
   "cell_type": "code",
   "execution_count": null,
   "metadata": {
    "colab": {
     "base_uri": "https://localhost:8080/"
    },
    "id": "8LKVa8v2clia",
    "outputId": "33978cd8-c541-445d-8418-4a15345f6391"
   },
   "outputs": [],
   "source": [
    "clean_data['Date']=clean_data.index"
   ]
  },
  {
   "cell_type": "code",
   "execution_count": null,
   "metadata": {
    "colab": {
     "base_uri": "https://localhost:8080/"
    },
    "id": "_OryKuVjp31y",
    "outputId": "771332ce-1e78-4568-b046-fde46a788187"
   },
   "outputs": [],
   "source": [
    "clean_data[\"year\"] = clean_data[\"Date\"].dt.year\n",
    "clean_data[\"month\"] = clean_data[\"Date\"].dt.month\n",
    "clean_data[\"day_of_week\"] = clean_data[\"Date\"].dt.dayofweek"
   ]
  },
  {
   "cell_type": "code",
   "execution_count": null,
   "metadata": {
    "id": "MBRq-U60cxqK"
   },
   "outputs": [],
   "source": [
    "clean_data = clean_data.drop(['Date'], axis=1)"
   ]
  },
  {
   "cell_type": "code",
   "execution_count": null,
   "metadata": {
    "colab": {
     "base_uri": "https://localhost:8080/",
     "height": 238
    },
    "id": "jkEKrr6Wcyly",
    "outputId": "363276af-9931-4589-cc42-bb2a92e8fa23"
   },
   "outputs": [],
   "source": [
    "clean_data.head()"
   ]
  },
  {
   "cell_type": "code",
   "execution_count": null,
   "metadata": {
    "colab": {
     "base_uri": "https://localhost:8080/",
     "height": 631
    },
    "id": "CdPjI88lc3WC",
    "outputId": "2c620418-4d7f-48d4-a248-771df7388e83"
   },
   "outputs": [],
   "source": [
    "plt.figure(figsize = (18,9))\n",
    "plt.plot(range(clean_data.shape[0]),(clean_data['Low']+clean_data['High'])/2.0)\n",
    "plt.xticks(range(0,clean_data.shape[0],500),clean_data['year'].loc[::500],rotation=45)\n",
    "plt.xlabel('Date',fontsize=18)\n",
    "plt.ylabel('Mid Price',fontsize=18)\n",
    "plt.show()"
   ]
  },
  {
   "cell_type": "code",
   "execution_count": null,
   "metadata": {
    "id": "oCuFRgrOqJHC"
   },
   "outputs": [],
   "source": [
    "X=clean_data.drop('Adj Close',axis=1)\n",
    "y=clean_data['Adj Close']"
   ]
  },
  {
   "cell_type": "markdown",
   "metadata": {
    "id": "Mqx-4KMuQyc5"
   },
   "source": [
    "# Regression Models"
   ]
  },
  {
   "cell_type": "code",
   "execution_count": null,
   "metadata": {
    "id": "fyyJ3rLBQ38h"
   },
   "outputs": [],
   "source": [
    "#splitting test and train data\n",
    "X_train,X_test,y_train,y_test=train_test_split(X,y,test_size=0.20,random_state=50)\n"
   ]
  },
  {
   "cell_type": "markdown",
   "metadata": {
    "id": "DmrJ-F_YRQII"
   },
   "source": [
    "Linear Regression"
   ]
  },
  {
   "cell_type": "code",
   "execution_count": null,
   "metadata": {
    "colab": {
     "base_uri": "https://localhost:8080/"
    },
    "id": "2l8P5mm1RSX6",
    "outputId": "a5c37e9c-f1da-4284-a54f-9f9df982818c"
   },
   "outputs": [],
   "source": [
    "lreg = LinearRegression()\n",
    "\n",
    "# Model Training\n",
    "lreg.fit(X_train,y_train)\n",
    "\n",
    "# Model Prediction\n",
    "y_pred_lreg = lreg.predict(X_test)\n",
    "\n",
    "# Model Performance\n",
    "mae = metrics.mean_absolute_error(y_test, y_pred_lreg)\n",
    "mse = metrics.mean_squared_error(y_test, y_pred_lreg)\n",
    "rmse = np.sqrt(mse) # or mse**(0.5)\n",
    "r2 = metrics.r2_score(y_test, y_pred_lreg)\n",
    "\n",
    "print(\"Results of sklearn.metrics:\")\n",
    "print(\"MAE:\",mae)\n",
    "print(\"MSE:\", mse)\n",
    "print(\"RMSE:\", rmse)\n",
    "print(\"R-Squared:\", r2)"
   ]
  },
  {
   "cell_type": "code",
   "execution_count": null,
   "metadata": {
    "colab": {
     "base_uri": "https://localhost:8080/",
     "height": 472
    },
    "id": "Hb8ML3YSRU-B",
    "outputId": "e252c55c-cce3-4e2c-f730-b3cbc39e19d0"
   },
   "outputs": [],
   "source": [
    "# Plotting\n",
    "plt.scatter(y_test, y_pred_lreg)\n",
    "plt.xlabel('y_test')\n",
    "plt.ylabel('y_pred_lreg')\n",
    "plt.title('Actual Values vs Predicted Values')\n",
    "plt.show()"
   ]
  },
  {
   "cell_type": "markdown",
   "metadata": {
    "id": "CJ0XaQ-3R5BJ"
   },
   "source": [
    "SVM"
   ]
  },
  {
   "cell_type": "code",
   "execution_count": null,
   "metadata": {
    "colab": {
     "base_uri": "https://localhost:8080/"
    },
    "id": "sz11VuruR2rZ",
    "outputId": "5b2aa2f2-281a-473a-d414-b6d1a634e030"
   },
   "outputs": [],
   "source": [
    "clf = svm.SVR()\n",
    "\n",
    "# Model Training\n",
    "clf.fit(X_train,y_train)\n",
    "\n",
    "# Model Prediction\n",
    "y_pred_svm = clf.predict(X_test)\n",
    "\n",
    "# Model Performance\n",
    "mae = metrics.mean_absolute_error(y_test, y_pred_svm)\n",
    "mse = metrics.mean_squared_error(y_test, y_pred_svm)\n",
    "rmse = mse**(0.5)\n",
    "r2 = metrics.r2_score(y_test, y_pred_svm)\n",
    "\n",
    "print(\"Results:\")\n",
    "print(\"MAE:\",mae)\n",
    "print(\"MSE:\", mse)\n",
    "print(\"RMSE:\", rmse)\n",
    "print(\"R-Squared:\", r2)"
   ]
  },
  {
   "cell_type": "code",
   "execution_count": null,
   "metadata": {
    "colab": {
     "base_uri": "https://localhost:8080/",
     "height": 472
    },
    "id": "iU6VvRlTSF0x",
    "outputId": "8651ea38-8d56-4cd8-87cb-1eabc97afb62"
   },
   "outputs": [],
   "source": [
    "# Plotting\n",
    "plt.scatter(y_test, y_pred_svm)\n",
    "plt.xlabel('y_test')\n",
    "plt.ylabel('y_pred_svm')\n",
    "plt.title('Actual Values vs Predicted Values')\n",
    "plt.show()"
   ]
  },
  {
   "cell_type": "markdown",
   "metadata": {
    "id": "AgHa42IESJBo"
   },
   "source": [
    "Decision Tree"
   ]
  },
  {
   "cell_type": "code",
   "execution_count": null,
   "metadata": {
    "colab": {
     "base_uri": "https://localhost:8080/"
    },
    "id": "kTnAhXC2SHxy",
    "outputId": "0424b571-9b43-4737-cab2-9a13eb74f3cc"
   },
   "outputs": [],
   "source": [
    "dTree = DecisionTreeRegressor()\n",
    "\n",
    "# Model Training\n",
    "dTree.fit(X_train,y_train)\n",
    "\n",
    "# Model Prediction\n",
    "y_pred_dTree = dTree.predict(X_test)\n",
    "\n",
    "# Model Performance\n",
    "mae = metrics.mean_absolute_error(y_test, y_pred_dTree)\n",
    "mse = metrics.mean_squared_error(y_test, y_pred_dTree)\n",
    "rmse = np.sqrt(mse) # or mse**(0.5)\n",
    "r2 = metrics.r2_score(y_test, y_pred_dTree)\n",
    "\n",
    "print(\"Results\")\n",
    "print(\"MAE:\",mae)\n",
    "print(\"MSE:\", mse)\n",
    "print(\"RMSE:\", rmse)\n",
    "print(\"R-Squared:\", r2)"
   ]
  },
  {
   "cell_type": "code",
   "execution_count": null,
   "metadata": {
    "colab": {
     "base_uri": "https://localhost:8080/",
     "height": 472
    },
    "id": "OFPRX9RvSaWJ",
    "outputId": "d107643b-c74f-4c21-ac02-ae250d7b6533"
   },
   "outputs": [],
   "source": [
    "# Plotting\n",
    "plt.scatter(y_test, y_pred_dTree)\n",
    "plt.xlabel('y_test')\n",
    "plt.ylabel('y_pred_dTree')\n",
    "plt.title('Actual Values vs Predicted Values')\n",
    "plt.show()"
   ]
  },
  {
   "cell_type": "markdown",
   "metadata": {
    "id": "2JcrlBTmSjKh"
   },
   "source": [
    "K-NN"
   ]
  },
  {
   "cell_type": "code",
   "execution_count": null,
   "metadata": {
    "colab": {
     "base_uri": "https://localhost:8080/"
    },
    "id": "rOJLby2-Sfnh",
    "outputId": "ea39f3ea-5cae-48a8-9501-e2efeebea9b1"
   },
   "outputs": [],
   "source": [
    "knn = KNeighborsRegressor(n_neighbors=2)\n",
    "\n",
    "# Model Training\n",
    "knn.fit(X_train,y_train)\n",
    "\n",
    "# Model Prediction\n",
    "y_pred_knn = knn.predict(X_test)\n",
    "\n",
    "# Model Performance\n",
    "mae = metrics.mean_absolute_error(y_test, y_pred_dTree)\n",
    "mse = metrics.mean_squared_error(y_test, y_pred_dTree)\n",
    "rmse = np.sqrt(mse) # or mse**(0.5)\n",
    "r2 = metrics.r2_score(y_test, y_pred_dTree)\n",
    "\n",
    "print(\"Results:\")\n",
    "print(\"MAE:\",mae)\n",
    "print(\"MSE:\", mse)\n",
    "print(\"RMSE:\", rmse)\n",
    "print(\"R-Squared:\", r2)"
   ]
  },
  {
   "cell_type": "code",
   "execution_count": null,
   "metadata": {
    "colab": {
     "base_uri": "https://localhost:8080/",
     "height": 472
    },
    "id": "O6vwgoRYSzTh",
    "outputId": "893796f5-156b-4f7c-d2ba-a7821558ee04"
   },
   "outputs": [],
   "source": [
    "# Plotting\n",
    "plt.scatter(y_test, y_pred_knn)\n",
    "plt.xlabel('y_test')\n",
    "plt.ylabel('y_pred_knn')\n",
    "plt.title('Actual Values vs Predicted Values')\n",
    "plt.show()"
   ]
  },
  {
   "cell_type": "markdown",
   "metadata": {
    "id": "piEHmgrjQCzq"
   },
   "source": [
    "# Ensemble Model (Bagging and Boosting)"
   ]
  },
  {
   "cell_type": "markdown",
   "metadata": {
    "id": "UgjkPUNBS2zX"
   },
   "source": [
    "Random Forest"
   ]
  },
  {
   "cell_type": "code",
   "execution_count": null,
   "metadata": {
    "colab": {
     "base_uri": "https://localhost:8080/"
    },
    "id": "NtAaMGvtS55J",
    "outputId": "cf550380-ed7c-4640-dfdf-0a310a030136"
   },
   "outputs": [],
   "source": [
    "rf_reg=RandomForestRegressor(n_estimators=100)\n",
    "\n",
    "# Model Training\n",
    "rf_reg.fit(X_train,y_train)\n",
    "\n",
    "# Model Prediction\n",
    "prediction=rf_reg.predict(X_test)\n",
    "\n",
    "# Model Performance\n",
    "mae = metrics.mean_absolute_error(y_test, prediction)\n",
    "mse = metrics.mean_squared_error(y_test, prediction)\n",
    "rmse = np.sqrt(mse) # or mse**(0.5)\n",
    "r2 = metrics.r2_score(y_test, prediction)\n",
    "\n",
    "print(\"Results:\")\n",
    "print(\"MAE:\",mae)\n",
    "print(\"MSE:\", mse)\n",
    "print(\"RMSE:\", rmse)\n",
    "print(\"R-Squared:\", r2)"
   ]
  },
  {
   "cell_type": "code",
   "execution_count": null,
   "metadata": {
    "colab": {
     "base_uri": "https://localhost:8080/",
     "height": 472
    },
    "id": "Bshgb-opS78x",
    "outputId": "2858ec23-39d3-44f1-a392-d4877ace1070"
   },
   "outputs": [],
   "source": [
    "# Plotting\n",
    "plt.scatter(y_test, prediction)\n",
    "plt.xlabel('y_test')\n",
    "plt.ylabel('prediction')\n",
    "plt.title('Actual Values vs Predicted Values')\n",
    "plt.show()"
   ]
  },
  {
   "cell_type": "markdown",
   "metadata": {
    "id": "1oZyOZ3UW5zK"
   },
   "source": [
    "# LSTM model"
   ]
  },
  {
   "cell_type": "code",
   "execution_count": null,
   "metadata": {
    "id": "HjG7BJDgTjPx"
   },
   "outputs": [],
   "source": [
    "#Load the dataset\n",
    "stock2 = pd.read_csv('msft-daily-max.csv')\n",
    "stock2['Date'] = pd.to_datetime(stock2['Date'])"
   ]
  },
  {
   "cell_type": "code",
   "execution_count": null,
   "metadata": {
    "colab": {
     "base_uri": "https://localhost:8080/"
    },
    "id": "AdWI2Fj0XAhY",
    "outputId": "9e366cdf-d12d-470a-ef4a-d9353db6fc73"
   },
   "outputs": [],
   "source": [
    "print(f'DataFrame contains stock prices between {stock2.Date.min()} {stock2.Date.max()}')\n",
    "print(f'Total days = {(stock2.Date.max() - stock2.Date.min()).days} days')"
   ]
  },
  {
   "cell_type": "code",
   "execution_count": null,
   "metadata": {
    "colab": {
     "base_uri": "https://localhost:8080/",
     "height": 206
    },
    "id": "PMYWnOZlXCpq",
    "outputId": "7f44cb58-aafc-4204-885b-67cfd85a080d"
   },
   "outputs": [],
   "source": [
    "stock2.head()"
   ]
  },
  {
   "cell_type": "code",
   "execution_count": null,
   "metadata": {
    "id": "nUaakBWAXgni"
   },
   "outputs": [],
   "source": [
    "# Outlier detection\n",
    "\n",
    "q1, q3 = np.percentile(stock2['Open'], [25, 75])\n",
    "# Calculate the interquartile range\n",
    "iqr = q3 - q1\n",
    "# Calculate the lower and upper bounds\n",
    "lower_bound = q1 - (1.5 * iqr)\n",
    "upper_bound = q3 + (1.5 * iqr)\n",
    "# Drop the outliers\n",
    "clean_data = stock2[(stock2['Open'] >= lower_bound)\n",
    "                & (stock2['Open'] <= upper_bound)]\n",
    "\n",
    "q1, q3 = np.percentile(stock2['High'], [25, 75])\n",
    "# Calculate the interquartile range\n",
    "iqr = q3 - q1\n",
    "# Calculate the lower and upper bounds\n",
    "lower_bound = q1 - (1.5 * iqr)\n",
    "upper_bound = q3 + (1.5 * iqr)\n",
    "# Drop the outliers\n",
    "clean_data = stock2[(stock2['High'] >= lower_bound)\n",
    "                & (stock2['High'] <= upper_bound)]\n",
    "\n",
    "q1, q3 = np.percentile(stock2['Low'], [25, 75])\n",
    "# Calculate the interquartile range\n",
    "iqr = q3 - q1\n",
    "# Calculate the lower and upper bounds\n",
    "lower_bound = q1 - (1.5 * iqr)\n",
    "upper_bound = q3 + (1.5 * iqr)\n",
    "# Drop the outliers\n",
    "clean_data = stock2[(stock2['Low'] >= lower_bound)\n",
    "                & (stock2['Low'] <= upper_bound)]\n",
    "\n",
    "q1, q3 = np.percentile(stock2['Close'], [25, 75])\n",
    "# Calculate the interquartile range\n",
    "iqr = q3 - q1\n",
    "# Calculate the lower and upper bounds\n",
    "lower_bound = q1 - (1.5 * iqr)\n",
    "upper_bound = q3 + (1.5 * iqr)\n",
    "# Drop the outliers\n",
    "clean_data = stock2[(stock2['Close'] >= lower_bound)\n",
    "                & (stock2['Close'] <= upper_bound)]\n",
    "\n",
    "q1, q3 = np.percentile(stock2['Adj Close'], [25, 75])\n",
    "# Calculate the interquartile range\n",
    "iqr = q3 - q1\n",
    "# Calculate the lower and upper bounds\n",
    "lower_bound = q1 - (1.5 * iqr)\n",
    "upper_bound = q3 + (1.5 * iqr)\n",
    "# Drop the outliers\n",
    "clean_data = stock2[(stock2['Adj Close'] >= lower_bound)\n",
    "                & (stock2['Adj Close'] <= upper_bound)]\n",
    "\n",
    "q1, q3 = np.percentile(stock2['Volume'], [25, 75])\n",
    "# Calculate the interquartile range\n",
    "iqr = q3 - q1\n",
    "# Calculate the lower and upper bounds\n",
    "lower_bound = q1 - (1.5 * iqr)\n",
    "upper_bound = q3 + (1.5 * iqr)\n",
    "# Drop the outliers\n",
    "clean_data = stock2[(stock2['Volume'] >= lower_bound)\n",
    "                & (stock2['Volume'] <= upper_bound)]"
   ]
  },
  {
   "cell_type": "code",
   "execution_count": null,
   "metadata": {
    "colab": {
     "base_uri": "https://localhost:8080/",
     "height": 502
    },
    "id": "NFHwNLqbXvMi",
    "outputId": "3571f97f-30f2-4240-eb64-8cce0be1558f"
   },
   "outputs": [],
   "source": [
    "plt.figure(figsize=(16,6))\n",
    "plt.title('Close Price History')\n",
    "plt.plot(clean_data['Close'])\n",
    "plt.xlabel('Date', fontsize=18)\n",
    "plt.ylabel('Close Price USD ($)', fontsize=18)\n",
    "plt.show()"
   ]
  },
  {
   "cell_type": "code",
   "execution_count": null,
   "metadata": {
    "colab": {
     "base_uri": "https://localhost:8080/"
    },
    "id": "ZqDKt6MNXwnb",
    "outputId": "217097f7-6f2e-4531-f221-522787f9832b"
   },
   "outputs": [],
   "source": [
    "# Create a new dataframe with only the 'Close column\n",
    "data = clean_data.filter(['Close'])\n",
    "# Convert the dataframe to a numpy array\n",
    "dataset = data.values\n",
    "# Get the number of rows to train the model on\n",
    "training_data_len = int(np.ceil( len(dataset) * .95 ))\n",
    "\n",
    "training_data_len"
   ]
  },
  {
   "cell_type": "code",
   "execution_count": null,
   "metadata": {
    "colab": {
     "base_uri": "https://localhost:8080/"
    },
    "id": "HTyBur3BXyBa",
    "outputId": "189bc64c-c3a9-427c-9a5d-86118badfdd3"
   },
   "outputs": [],
   "source": [
    "scaler = MinMaxScaler(feature_range=(0,1))\n",
    "scaled_data = scaler.fit_transform(dataset)\n",
    "\n",
    "scaled_data"
   ]
  },
  {
   "cell_type": "code",
   "execution_count": null,
   "metadata": {
    "colab": {
     "base_uri": "https://localhost:8080/"
    },
    "id": "GB1J4mMZXzoS",
    "outputId": "50b2b646-3f16-4765-dd23-eed472d37d51"
   },
   "outputs": [],
   "source": [
    "train_data = scaled_data[0:int(training_data_len), :]\n",
    "# Split the data into x_train and y_train data sets\n",
    "x_train = []\n",
    "y_train = []\n",
    "\n",
    "for i in range(60, len(train_data)):\n",
    "    x_train.append(train_data[i-60:i, 0])\n",
    "    y_train.append(train_data[i, 0])\n",
    "    if i<= 61:\n",
    "        print(x_train)\n",
    "        print(y_train)\n",
    "        print()\n",
    "\n",
    "# Convert the x_train and y_train to numpy arrays\n",
    "x_train, y_train = np.array(x_train), np.array(y_train)\n",
    "\n",
    "# Reshape the data\n",
    "x_train = np.reshape(x_train, (x_train.shape[0], x_train.shape[1], 1))"
   ]
  },
  {
   "cell_type": "code",
   "execution_count": null,
   "metadata": {
    "colab": {
     "base_uri": "https://localhost:8080/"
    },
    "id": "76HAHl5cX1Sa",
    "outputId": "bb9e1744-0d66-4c90-960b-702e035f9f3f"
   },
   "outputs": [],
   "source": [
    "# Build the LSTM model\n",
    "model = Sequential()\n",
    "model.add(LSTM(128, return_sequences=True, input_shape= (x_train.shape[1], 1)))\n",
    "model.add(LSTM(64, return_sequences=False))\n",
    "model.add(Dense(25))\n",
    "model.add(Dense(1))\n",
    "\n",
    "# Compile the model\n",
    "model.compile(optimizer='adam', loss='mean_squared_error')\n",
    "\n",
    "# Train the model\n",
    "model.fit(x_train, y_train, batch_size=1, epochs=1)\n"
   ]
  },
  {
   "cell_type": "code",
   "execution_count": null,
   "metadata": {
    "colab": {
     "base_uri": "https://localhost:8080/"
    },
    "id": "DeVBDtpZX3Ya",
    "outputId": "90a751a8-144f-4ce3-e52b-4d6beb7b3310"
   },
   "outputs": [],
   "source": [
    "# Create the testing data set\n",
    "# Create a new array containing scaled values from index 1543 to 2002\n",
    "test_data = scaled_data[training_data_len - 60: , :]\n",
    "# Create the data sets x_test and y_test\n",
    "x_test = []\n",
    "y_test = dataset[training_data_len:, :]\n",
    "for i in range(60, len(test_data)):\n",
    "    x_test.append(test_data[i-60:i, 0])\n",
    "\n",
    "# Convert the data to a numpy array\n",
    "x_test = np.array(x_test)\n",
    "\n",
    "# Reshape the data\n",
    "x_test = np.reshape(x_test, (x_test.shape[0], x_test.shape[1], 1 ))\n",
    "\n",
    "# Get the models predicted price values\n",
    "predictions = model.predict(x_test)\n",
    "predictions = scaler.inverse_transform(predictions)\n",
    "\n",
    "# Get the root mean squared error (RMSE)\n",
    "rmse = np.sqrt(np.mean(((predictions - y_test) ** 2)))\n",
    "rmse"
   ]
  },
  {
   "cell_type": "code",
   "execution_count": null,
   "metadata": {
    "colab": {
     "base_uri": "https://localhost:8080/",
     "height": 589
    },
    "id": "2UFP1BWBX6ty",
    "outputId": "dd343b0a-4305-46c4-e65f-f47b9985fa95"
   },
   "outputs": [],
   "source": [
    "train = data[:training_data_len]\n",
    "valid = data[training_data_len:]\n",
    "valid['Predictions'] = predictions\n",
    "# Visualize the data\n",
    "plt.figure(figsize=(16,6))\n",
    "plt.title('Model')\n",
    "plt.xlabel('Date', fontsize=18)\n",
    "plt.ylabel('Close Price USD ($)', fontsize=18)\n",
    "plt.plot(train['Close'])\n",
    "plt.plot(valid[['Close', 'Predictions']])\n",
    "plt.legend(['Train', 'Val', 'Predictions'], loc='lower right')\n",
    "plt.show()"
   ]
  },
  {
   "cell_type": "code",
   "execution_count": null,
   "metadata": {
    "colab": {
     "base_uri": "https://localhost:8080/",
     "height": 424
    },
    "id": "5-hb-v_xX7Vy",
    "outputId": "5b75b87e-4126-492c-a761-b28015473055"
   },
   "outputs": [],
   "source": [
    "valid"
   ]
  },
  {
   "cell_type": "markdown",
   "metadata": {
    "id": "bFV9GUiEX9px"
   },
   "source": [
    "# eXplainable AI (XAI)"
   ]
  },
  {
   "cell_type": "markdown",
   "metadata": {
    "id": "DrbNjWaUYDAy"
   },
   "source": [
    "LIME"
   ]
  },
  {
   "cell_type": "code",
   "execution_count": null,
   "metadata": {
    "colab": {
     "base_uri": "https://localhost:8080/"
    },
    "id": "80jqxYjjld-D",
    "outputId": "86f9e24b-f154-4650-8612-005196878e72"
   },
   "outputs": [],
   "source": [
    "X = pd.DataFrame(X_train)\n",
    "y=pd.DataFrame(y_test)\n",
    "print(y)\n",
    "explainer = LimeTabularExplainer(X_train.values,feature_names=X_train.columns.values.tolist(),class_names=['Adj Close'],mode='regression')\n",
    "exp = explainer.explain_instance(X_train.values[7219], rf_reg.predict,num_features=5)"
   ]
  },
  {
   "cell_type": "code",
   "execution_count": null,
   "metadata": {
    "colab": {
     "base_uri": "https://localhost:8080/",
     "height": 656
    },
    "id": "xv_Sr8SXOpxg",
    "outputId": "e00c0628-b7c1-4119-c8ea-7b9cdb90276f"
   },
   "outputs": [],
   "source": [
    "exp.as_pyplot_figure()\n",
    "plt.tight_layout()\n",
    "exp.show_in_notebook(show_table=True)"
   ]
  },
  {
   "cell_type": "markdown",
   "metadata": {
    "id": "Wx_eIGEpYi7C"
   },
   "source": [
    "SHAP"
   ]
  },
  {
   "cell_type": "code",
   "execution_count": null,
   "metadata": {
    "colab": {
     "base_uri": "https://localhost:8080/",
     "height": 300
    },
    "id": "RL1J9R3uYkSz",
    "outputId": "79e41580-8f50-4b18-d6d5-69e7fd02f8d3"
   },
   "outputs": [],
   "source": [
    "fi=pd.DataFrame({'Feature': X_train.columns, 'Importance': rf_reg.feature_importances_})\n",
    "fi.sort_values(by='Importance',ascending=False,ignore_index=True)"
   ]
  },
  {
   "cell_type": "code",
   "execution_count": null,
   "metadata": {
    "colab": {
     "base_uri": "https://localhost:8080/",
     "height": 534
    },
    "id": "4DK0n5wiPjmQ",
    "outputId": "b84df8a4-fb04-4b50-a705-420cfffd54d2"
   },
   "outputs": [],
   "source": [
    "xpl = SmartExplainer(rf_reg)\n",
    "xpl.compile(x=X_test)\n",
    "xpl.plot.features_importance()"
   ]
  }
 ],
 "metadata": {
  "colab": {
   "provenance": []
  },
  "kernelspec": {
   "display_name": "modin",
   "language": "python",
   "name": "modin"
  },
  "language_info": {
   "codemirror_mode": {
    "name": "ipython",
    "version": 3
   },
   "file_extension": ".py",
   "mimetype": "text/x-python",
   "name": "python",
   "nbconvert_exporter": "python",
   "pygments_lexer": "ipython3",
   "version": "3.9.16"
  }
 },
 "nbformat": 4,
 "nbformat_minor": 4
}
